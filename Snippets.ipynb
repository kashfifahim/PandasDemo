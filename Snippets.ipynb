{
 "cells": [
  {
   "cell_type": "code",
   "execution_count": 1,
   "id": "4ab34d9b-022d-4df4-af4c-9af51de7f478",
   "metadata": {},
   "outputs": [],
   "source": [
    "person = {\n",
    "    \"first\": \"Kashfi\",\n",
    "    \"last\": \"Fahim\",\n",
    "    \"email\":\"kashfi.fahim@gmail.com\"\n",
    "}"
   ]
  },
  {
   "cell_type": "code",
   "execution_count": 2,
   "id": "0472b0a3-efcf-4478-96e9-fbe796723e9a",
   "metadata": {},
   "outputs": [],
   "source": [
    "people = {\n",
    "    \"first\": [\"Kashfi\"],\n",
    "    \"last\": [\"Fahim\"],\n",
    "    \"email\": [\"kashfi.fahim@gmail.com\"]\n",
    "}"
   ]
  },
  {
   "cell_type": "code",
   "execution_count": 3,
   "id": "64d7e7f8-3f0a-4c5c-8c63-6a7c6caeb439",
   "metadata": {},
   "outputs": [],
   "source": [
    "people = {\n",
    "    \"first\": [\"Kashfi\", \"Taseen\", \"Albina\", \"Tenzenza\"],\n",
    "    \"last\": [\"Fahim\", \"Fahim\", \"Rahman\", \"Rahman\"],\n",
    "    \"email\" : [\"abc@gmail.com\", \"def@gmail.com\", \"ghi@gmail.com\", \"jkl@gmail.com\"],\n",
    "}"
   ]
  },
  {
   "cell_type": "code",
   "execution_count": 4,
   "id": "616f780d-a2c0-49d8-8784-72c413a79b52",
   "metadata": {},
   "outputs": [],
   "source": [
    "import pandas as pd"
   ]
  },
  {
   "cell_type": "code",
   "execution_count": 5,
   "id": "6bc794b4-645b-4831-b704-35cd8a19b467",
   "metadata": {},
   "outputs": [],
   "source": [
    "df = pd.DataFrame(people)"
   ]
  },
  {
   "cell_type": "code",
   "execution_count": 6,
   "id": "f5e431a7-2343-4af6-b01b-cbf05d29355d",
   "metadata": {},
   "outputs": [
    {
     "data": {
      "text/html": [
       "<div>\n",
       "<style scoped>\n",
       "    .dataframe tbody tr th:only-of-type {\n",
       "        vertical-align: middle;\n",
       "    }\n",
       "\n",
       "    .dataframe tbody tr th {\n",
       "        vertical-align: top;\n",
       "    }\n",
       "\n",
       "    .dataframe thead th {\n",
       "        text-align: right;\n",
       "    }\n",
       "</style>\n",
       "<table border=\"1\" class=\"dataframe\">\n",
       "  <thead>\n",
       "    <tr style=\"text-align: right;\">\n",
       "      <th></th>\n",
       "      <th>first</th>\n",
       "      <th>last</th>\n",
       "      <th>email</th>\n",
       "    </tr>\n",
       "  </thead>\n",
       "  <tbody>\n",
       "    <tr>\n",
       "      <th>0</th>\n",
       "      <td>Kashfi</td>\n",
       "      <td>Fahim</td>\n",
       "      <td>abc@gmail.com</td>\n",
       "    </tr>\n",
       "    <tr>\n",
       "      <th>1</th>\n",
       "      <td>Taseen</td>\n",
       "      <td>Fahim</td>\n",
       "      <td>def@gmail.com</td>\n",
       "    </tr>\n",
       "    <tr>\n",
       "      <th>2</th>\n",
       "      <td>Albina</td>\n",
       "      <td>Rahman</td>\n",
       "      <td>ghi@gmail.com</td>\n",
       "    </tr>\n",
       "    <tr>\n",
       "      <th>3</th>\n",
       "      <td>Tenzenza</td>\n",
       "      <td>Rahman</td>\n",
       "      <td>jkl@gmail.com</td>\n",
       "    </tr>\n",
       "  </tbody>\n",
       "</table>\n",
       "</div>"
      ],
      "text/plain": [
       "      first    last          email\n",
       "0    Kashfi   Fahim  abc@gmail.com\n",
       "1    Taseen   Fahim  def@gmail.com\n",
       "2    Albina  Rahman  ghi@gmail.com\n",
       "3  Tenzenza  Rahman  jkl@gmail.com"
      ]
     },
     "execution_count": 6,
     "metadata": {},
     "output_type": "execute_result"
    }
   ],
   "source": [
    "df"
   ]
  },
  {
   "cell_type": "code",
   "execution_count": 7,
   "id": "10e1284f-82d2-4fd0-a5e6-a88b9c187339",
   "metadata": {},
   "outputs": [
    {
     "data": {
      "text/plain": [
       "0      Kashfi\n",
       "1      Taseen\n",
       "2      Albina\n",
       "3    Tenzenza\n",
       "Name: first, dtype: object"
      ]
     },
     "execution_count": 7,
     "metadata": {},
     "output_type": "execute_result"
    }
   ],
   "source": [
    "df[\"first\"]"
   ]
  },
  {
   "cell_type": "code",
   "execution_count": 8,
   "id": "2255940a-4bf1-4a3b-b80a-48d6c2f958d9",
   "metadata": {},
   "outputs": [
    {
     "data": {
      "text/plain": [
       "0    abc@gmail.com\n",
       "1    def@gmail.com\n",
       "2    ghi@gmail.com\n",
       "3    jkl@gmail.com\n",
       "Name: email, dtype: object"
      ]
     },
     "execution_count": 8,
     "metadata": {},
     "output_type": "execute_result"
    }
   ],
   "source": [
    "df['email']"
   ]
  },
  {
   "cell_type": "code",
   "execution_count": 9,
   "id": "210e7d09-a6fb-42d0-9950-eaa21da66fc4",
   "metadata": {},
   "outputs": [
    {
     "data": {
      "text/plain": [
       "pandas.core.series.Series"
      ]
     },
     "execution_count": 9,
     "metadata": {},
     "output_type": "execute_result"
    }
   ],
   "source": [
    "type(df['email'])"
   ]
  },
  {
   "cell_type": "markdown",
   "id": "07ef511f-60ca-447f-8f01-21218c588d93",
   "metadata": {},
   "source": [
    "## Series - a list of data with a lot more functionality; a row"
   ]
  },
  {
   "cell_type": "markdown",
   "id": "82d9ca83-72ff-4270-90f3-ac9ea34d5d82",
   "metadata": {},
   "source": [
    "## DataFrame -- rows and columns, container for multiple rows (Series)"
   ]
  },
  {
   "cell_type": "code",
   "execution_count": 10,
   "id": "598babcd-0ea4-416b-ae88-8baa34dd04b2",
   "metadata": {},
   "outputs": [
    {
     "data": {
      "text/html": [
       "<div>\n",
       "<style scoped>\n",
       "    .dataframe tbody tr th:only-of-type {\n",
       "        vertical-align: middle;\n",
       "    }\n",
       "\n",
       "    .dataframe tbody tr th {\n",
       "        vertical-align: top;\n",
       "    }\n",
       "\n",
       "    .dataframe thead th {\n",
       "        text-align: right;\n",
       "    }\n",
       "</style>\n",
       "<table border=\"1\" class=\"dataframe\">\n",
       "  <thead>\n",
       "    <tr style=\"text-align: right;\">\n",
       "      <th></th>\n",
       "      <th>first</th>\n",
       "      <th>last</th>\n",
       "    </tr>\n",
       "  </thead>\n",
       "  <tbody>\n",
       "    <tr>\n",
       "      <th>0</th>\n",
       "      <td>Kashfi</td>\n",
       "      <td>Fahim</td>\n",
       "    </tr>\n",
       "    <tr>\n",
       "      <th>1</th>\n",
       "      <td>Taseen</td>\n",
       "      <td>Fahim</td>\n",
       "    </tr>\n",
       "    <tr>\n",
       "      <th>2</th>\n",
       "      <td>Albina</td>\n",
       "      <td>Rahman</td>\n",
       "    </tr>\n",
       "    <tr>\n",
       "      <th>3</th>\n",
       "      <td>Tenzenza</td>\n",
       "      <td>Rahman</td>\n",
       "    </tr>\n",
       "  </tbody>\n",
       "</table>\n",
       "</div>"
      ],
      "text/plain": [
       "      first    last\n",
       "0    Kashfi   Fahim\n",
       "1    Taseen   Fahim\n",
       "2    Albina  Rahman\n",
       "3  Tenzenza  Rahman"
      ]
     },
     "execution_count": 10,
     "metadata": {},
     "output_type": "execute_result"
    }
   ],
   "source": [
    "# Access multiple columns\n",
    "df[['first', 'last']]"
   ]
  },
  {
   "cell_type": "code",
   "execution_count": 11,
   "id": "f2d6c9b2-bacd-4f92-8a95-e9179def6552",
   "metadata": {},
   "outputs": [
    {
     "data": {
      "text/html": [
       "<div>\n",
       "<style scoped>\n",
       "    .dataframe tbody tr th:only-of-type {\n",
       "        vertical-align: middle;\n",
       "    }\n",
       "\n",
       "    .dataframe tbody tr th {\n",
       "        vertical-align: top;\n",
       "    }\n",
       "\n",
       "    .dataframe thead th {\n",
       "        text-align: right;\n",
       "    }\n",
       "</style>\n",
       "<table border=\"1\" class=\"dataframe\">\n",
       "  <thead>\n",
       "    <tr style=\"text-align: right;\">\n",
       "      <th></th>\n",
       "      <th>email</th>\n",
       "      <th>last</th>\n",
       "      <th>first</th>\n",
       "    </tr>\n",
       "  </thead>\n",
       "  <tbody>\n",
       "    <tr>\n",
       "      <th>0</th>\n",
       "      <td>abc@gmail.com</td>\n",
       "      <td>Fahim</td>\n",
       "      <td>Kashfi</td>\n",
       "    </tr>\n",
       "    <tr>\n",
       "      <th>1</th>\n",
       "      <td>def@gmail.com</td>\n",
       "      <td>Fahim</td>\n",
       "      <td>Taseen</td>\n",
       "    </tr>\n",
       "    <tr>\n",
       "      <th>2</th>\n",
       "      <td>ghi@gmail.com</td>\n",
       "      <td>Rahman</td>\n",
       "      <td>Albina</td>\n",
       "    </tr>\n",
       "    <tr>\n",
       "      <th>3</th>\n",
       "      <td>jkl@gmail.com</td>\n",
       "      <td>Rahman</td>\n",
       "      <td>Tenzenza</td>\n",
       "    </tr>\n",
       "  </tbody>\n",
       "</table>\n",
       "</div>"
      ],
      "text/plain": [
       "           email    last     first\n",
       "0  abc@gmail.com   Fahim    Kashfi\n",
       "1  def@gmail.com   Fahim    Taseen\n",
       "2  ghi@gmail.com  Rahman    Albina\n",
       "3  jkl@gmail.com  Rahman  Tenzenza"
      ]
     },
     "execution_count": 11,
     "metadata": {},
     "output_type": "execute_result"
    }
   ],
   "source": [
    "df[[\"email\", \"last\", \"first\"]]"
   ]
  },
  {
   "cell_type": "code",
   "execution_count": 12,
   "id": "c0eedc04-0043-4897-91a6-34006aef4ba2",
   "metadata": {},
   "outputs": [
    {
     "data": {
      "text/plain": [
       "pandas.core.frame.DataFrame"
      ]
     },
     "execution_count": 12,
     "metadata": {},
     "output_type": "execute_result"
    }
   ],
   "source": [
    "type(df[[\"email\", \"last\", \"first\"]])"
   ]
  },
  {
   "cell_type": "code",
   "execution_count": 13,
   "id": "13b936d7-42fd-47f4-9943-0daaab72c29a",
   "metadata": {},
   "outputs": [
    {
     "data": {
      "text/html": [
       "<div>\n",
       "<style scoped>\n",
       "    .dataframe tbody tr th:only-of-type {\n",
       "        vertical-align: middle;\n",
       "    }\n",
       "\n",
       "    .dataframe tbody tr th {\n",
       "        vertical-align: top;\n",
       "    }\n",
       "\n",
       "    .dataframe thead th {\n",
       "        text-align: right;\n",
       "    }\n",
       "</style>\n",
       "<table border=\"1\" class=\"dataframe\">\n",
       "  <thead>\n",
       "    <tr style=\"text-align: right;\">\n",
       "      <th></th>\n",
       "      <th>first</th>\n",
       "      <th>last</th>\n",
       "      <th>email</th>\n",
       "    </tr>\n",
       "  </thead>\n",
       "  <tbody>\n",
       "    <tr>\n",
       "      <th>0</th>\n",
       "      <td>Kashfi</td>\n",
       "      <td>Fahim</td>\n",
       "      <td>abc@gmail.com</td>\n",
       "    </tr>\n",
       "    <tr>\n",
       "      <th>1</th>\n",
       "      <td>Taseen</td>\n",
       "      <td>Fahim</td>\n",
       "      <td>def@gmail.com</td>\n",
       "    </tr>\n",
       "  </tbody>\n",
       "</table>\n",
       "</div>"
      ],
      "text/plain": [
       "    first   last          email\n",
       "0  Kashfi  Fahim  abc@gmail.com\n",
       "1  Taseen  Fahim  def@gmail.com"
      ]
     },
     "execution_count": 13,
     "metadata": {},
     "output_type": "execute_result"
    }
   ],
   "source": [
    "df[0:2]"
   ]
  },
  {
   "cell_type": "code",
   "execution_count": 14,
   "id": "059fa2aa-af3d-465b-a90e-8d4dbdaa232c",
   "metadata": {},
   "outputs": [
    {
     "data": {
      "text/plain": [
       "Index(['first', 'last', 'email'], dtype='object')"
      ]
     },
     "execution_count": 14,
     "metadata": {},
     "output_type": "execute_result"
    }
   ],
   "source": [
    "df.columns"
   ]
  },
  {
   "cell_type": "markdown",
   "id": "b0fd5b25-61b4-4fba-bb99-71f548facbc9",
   "metadata": {},
   "source": [
    "### Rows: iloc, loc"
   ]
  },
  {
   "cell_type": "code",
   "execution_count": 15,
   "id": "d496495b-737f-4d5c-9231-8a0ddc3cb72c",
   "metadata": {},
   "outputs": [
    {
     "data": {
      "text/plain": [
       "first           Taseen\n",
       "last             Fahim\n",
       "email    def@gmail.com\n",
       "Name: 1, dtype: object"
      ]
     },
     "execution_count": 15,
     "metadata": {},
     "output_type": "execute_result"
    }
   ],
   "source": [
    "df.iloc[1]"
   ]
  },
  {
   "cell_type": "code",
   "execution_count": 16,
   "id": "8f30272a-3eda-4e36-b0d0-388a67c3b5e6",
   "metadata": {},
   "outputs": [
    {
     "data": {
      "text/plain": [
       "first           Kashfi\n",
       "last             Fahim\n",
       "email    abc@gmail.com\n",
       "Name: 0, dtype: object"
      ]
     },
     "execution_count": 16,
     "metadata": {},
     "output_type": "execute_result"
    }
   ],
   "source": [
    "df.iloc[0]"
   ]
  },
  {
   "cell_type": "code",
   "execution_count": 17,
   "id": "dd623560-989c-488b-86df-b96c55747961",
   "metadata": {},
   "outputs": [
    {
     "data": {
      "text/plain": [
       "first           Albina\n",
       "last            Rahman\n",
       "email    ghi@gmail.com\n",
       "Name: 2, dtype: object"
      ]
     },
     "execution_count": 17,
     "metadata": {},
     "output_type": "execute_result"
    }
   ],
   "source": [
    "df.iloc[2]"
   ]
  },
  {
   "cell_type": "code",
   "execution_count": 18,
   "id": "a852f170-ad2b-424c-b919-dcd509d2c948",
   "metadata": {},
   "outputs": [
    {
     "data": {
      "text/plain": [
       "first         Tenzenza\n",
       "last            Rahman\n",
       "email    jkl@gmail.com\n",
       "Name: 3, dtype: object"
      ]
     },
     "execution_count": 18,
     "metadata": {},
     "output_type": "execute_result"
    }
   ],
   "source": [
    "df.iloc[3]"
   ]
  },
  {
   "cell_type": "code",
   "execution_count": 19,
   "id": "edca8455-d985-4f7f-8e29-b96dd7d3cf25",
   "metadata": {},
   "outputs": [
    {
     "data": {
      "text/plain": [
       "pandas.core.series.Series"
      ]
     },
     "execution_count": 19,
     "metadata": {},
     "output_type": "execute_result"
    }
   ],
   "source": [
    "type(df.iloc[3])"
   ]
  },
  {
   "cell_type": "code",
   "execution_count": 20,
   "id": "351dd8ea-192f-4e0a-b516-28dd783d8c82",
   "metadata": {},
   "outputs": [
    {
     "data": {
      "text/plain": [
       "first           Kashfi\n",
       "last             Fahim\n",
       "email    abc@gmail.com\n",
       "Name: 0, dtype: object"
      ]
     },
     "execution_count": 20,
     "metadata": {},
     "output_type": "execute_result"
    }
   ],
   "source": [
    "df.loc[0]"
   ]
  },
  {
   "cell_type": "code",
   "execution_count": 21,
   "id": "6c143536-37f9-4f36-b024-1db99ec680b6",
   "metadata": {},
   "outputs": [
    {
     "data": {
      "text/plain": [
       "pandas.core.series.Series"
      ]
     },
     "execution_count": 21,
     "metadata": {},
     "output_type": "execute_result"
    }
   ],
   "source": [
    "type(df.loc[0])"
   ]
  },
  {
   "cell_type": "code",
   "execution_count": 22,
   "id": "dc083cca-36a3-49ef-b0b7-68775c624735",
   "metadata": {},
   "outputs": [],
   "source": [
    "first, last, email = df.loc[0]"
   ]
  },
  {
   "cell_type": "code",
   "execution_count": 23,
   "id": "d9b8393d-3f39-42a7-a1b1-6d95dd3e6d5f",
   "metadata": {},
   "outputs": [
    {
     "data": {
      "text/plain": [
       "('Kashfi', 'Fahim', 'abc@gmail.com')"
      ]
     },
     "execution_count": 23,
     "metadata": {},
     "output_type": "execute_result"
    }
   ],
   "source": [
    "first, last, email"
   ]
  },
  {
   "cell_type": "code",
   "execution_count": 24,
   "id": "bb815548-70c8-45f8-a754-efb7e3dbd28f",
   "metadata": {},
   "outputs": [
    {
     "data": {
      "text/plain": [
       "str"
      ]
     },
     "execution_count": 24,
     "metadata": {},
     "output_type": "execute_result"
    }
   ],
   "source": [
    "type(first)"
   ]
  },
  {
   "cell_type": "code",
   "execution_count": 25,
   "id": "726cfbc5-dbb5-4f30-a8ae-e2124df9c4a0",
   "metadata": {},
   "outputs": [
    {
     "data": {
      "text/html": [
       "<div>\n",
       "<style scoped>\n",
       "    .dataframe tbody tr th:only-of-type {\n",
       "        vertical-align: middle;\n",
       "    }\n",
       "\n",
       "    .dataframe tbody tr th {\n",
       "        vertical-align: top;\n",
       "    }\n",
       "\n",
       "    .dataframe thead th {\n",
       "        text-align: right;\n",
       "    }\n",
       "</style>\n",
       "<table border=\"1\" class=\"dataframe\">\n",
       "  <thead>\n",
       "    <tr style=\"text-align: right;\">\n",
       "      <th></th>\n",
       "      <th>first</th>\n",
       "      <th>last</th>\n",
       "      <th>email</th>\n",
       "    </tr>\n",
       "  </thead>\n",
       "  <tbody>\n",
       "    <tr>\n",
       "      <th>0</th>\n",
       "      <td>Kashfi</td>\n",
       "      <td>Fahim</td>\n",
       "      <td>abc@gmail.com</td>\n",
       "    </tr>\n",
       "    <tr>\n",
       "      <th>1</th>\n",
       "      <td>Taseen</td>\n",
       "      <td>Fahim</td>\n",
       "      <td>def@gmail.com</td>\n",
       "    </tr>\n",
       "  </tbody>\n",
       "</table>\n",
       "</div>"
      ],
      "text/plain": [
       "    first   last          email\n",
       "0  Kashfi  Fahim  abc@gmail.com\n",
       "1  Taseen  Fahim  def@gmail.com"
      ]
     },
     "execution_count": 25,
     "metadata": {},
     "output_type": "execute_result"
    }
   ],
   "source": [
    "df.iloc[[0, 1]]"
   ]
  },
  {
   "cell_type": "code",
   "execution_count": 26,
   "id": "e80a38dc-9b2b-4c7d-a846-cf4f97eb5f36",
   "metadata": {},
   "outputs": [
    {
     "data": {
      "text/html": [
       "<div>\n",
       "<style scoped>\n",
       "    .dataframe tbody tr th:only-of-type {\n",
       "        vertical-align: middle;\n",
       "    }\n",
       "\n",
       "    .dataframe tbody tr th {\n",
       "        vertical-align: top;\n",
       "    }\n",
       "\n",
       "    .dataframe thead th {\n",
       "        text-align: right;\n",
       "    }\n",
       "</style>\n",
       "<table border=\"1\" class=\"dataframe\">\n",
       "  <thead>\n",
       "    <tr style=\"text-align: right;\">\n",
       "      <th></th>\n",
       "      <th>email</th>\n",
       "    </tr>\n",
       "  </thead>\n",
       "  <tbody>\n",
       "    <tr>\n",
       "      <th>0</th>\n",
       "      <td>abc@gmail.com</td>\n",
       "    </tr>\n",
       "    <tr>\n",
       "      <th>1</th>\n",
       "      <td>def@gmail.com</td>\n",
       "    </tr>\n",
       "  </tbody>\n",
       "</table>\n",
       "</div>"
      ],
      "text/plain": [
       "           email\n",
       "0  abc@gmail.com\n",
       "1  def@gmail.com"
      ]
     },
     "execution_count": 26,
     "metadata": {},
     "output_type": "execute_result"
    }
   ],
   "source": [
    "df.iloc[[0, 1], [2]]"
   ]
  },
  {
   "cell_type": "code",
   "execution_count": 27,
   "id": "34780b5a-6aca-4e19-b2db-11982e913f15",
   "metadata": {},
   "outputs": [
    {
     "data": {
      "text/plain": [
       "first           Kashfi\n",
       "last             Fahim\n",
       "email    abc@gmail.com\n",
       "Name: 0, dtype: object"
      ]
     },
     "execution_count": 27,
     "metadata": {},
     "output_type": "execute_result"
    }
   ],
   "source": [
    "df.loc[0]"
   ]
  },
  {
   "cell_type": "code",
   "execution_count": 28,
   "id": "60bcbb3a-2b55-41dc-8247-08e54d3edd59",
   "metadata": {},
   "outputs": [
    {
     "data": {
      "text/plain": [
       "first           Albina\n",
       "last            Rahman\n",
       "email    ghi@gmail.com\n",
       "Name: 2, dtype: object"
      ]
     },
     "execution_count": 28,
     "metadata": {},
     "output_type": "execute_result"
    }
   ],
   "source": [
    "df.loc[2]"
   ]
  },
  {
   "cell_type": "code",
   "execution_count": 29,
   "id": "546dfbbc-9835-4ebf-b333-d984b4b0f443",
   "metadata": {},
   "outputs": [
    {
     "data": {
      "text/html": [
       "<div>\n",
       "<style scoped>\n",
       "    .dataframe tbody tr th:only-of-type {\n",
       "        vertical-align: middle;\n",
       "    }\n",
       "\n",
       "    .dataframe tbody tr th {\n",
       "        vertical-align: top;\n",
       "    }\n",
       "\n",
       "    .dataframe thead th {\n",
       "        text-align: right;\n",
       "    }\n",
       "</style>\n",
       "<table border=\"1\" class=\"dataframe\">\n",
       "  <thead>\n",
       "    <tr style=\"text-align: right;\">\n",
       "      <th></th>\n",
       "      <th>email</th>\n",
       "    </tr>\n",
       "  </thead>\n",
       "  <tbody>\n",
       "    <tr>\n",
       "      <th>1</th>\n",
       "      <td>def@gmail.com</td>\n",
       "    </tr>\n",
       "  </tbody>\n",
       "</table>\n",
       "</div>"
      ],
      "text/plain": [
       "           email\n",
       "1  def@gmail.com"
      ]
     },
     "execution_count": 29,
     "metadata": {},
     "output_type": "execute_result"
    }
   ],
   "source": [
    "df.loc[[1], ['email']]"
   ]
  },
  {
   "cell_type": "code",
   "execution_count": 30,
   "id": "3aa31ab5-e0e3-4e8c-adcd-d79abc41e88c",
   "metadata": {},
   "outputs": [
    {
     "data": {
      "text/html": [
       "<div>\n",
       "<style scoped>\n",
       "    .dataframe tbody tr th:only-of-type {\n",
       "        vertical-align: middle;\n",
       "    }\n",
       "\n",
       "    .dataframe tbody tr th {\n",
       "        vertical-align: top;\n",
       "    }\n",
       "\n",
       "    .dataframe thead th {\n",
       "        text-align: right;\n",
       "    }\n",
       "</style>\n",
       "<table border=\"1\" class=\"dataframe\">\n",
       "  <thead>\n",
       "    <tr style=\"text-align: right;\">\n",
       "      <th></th>\n",
       "      <th>first</th>\n",
       "      <th>last</th>\n",
       "      <th>email</th>\n",
       "    </tr>\n",
       "  </thead>\n",
       "  <tbody>\n",
       "    <tr>\n",
       "      <th>0</th>\n",
       "      <td>Kashfi</td>\n",
       "      <td>Fahim</td>\n",
       "      <td>abc@gmail.com</td>\n",
       "    </tr>\n",
       "    <tr>\n",
       "      <th>1</th>\n",
       "      <td>Taseen</td>\n",
       "      <td>Fahim</td>\n",
       "      <td>def@gmail.com</td>\n",
       "    </tr>\n",
       "    <tr>\n",
       "      <th>2</th>\n",
       "      <td>Albina</td>\n",
       "      <td>Rahman</td>\n",
       "      <td>ghi@gmail.com</td>\n",
       "    </tr>\n",
       "    <tr>\n",
       "      <th>3</th>\n",
       "      <td>Tenzenza</td>\n",
       "      <td>Rahman</td>\n",
       "      <td>jkl@gmail.com</td>\n",
       "    </tr>\n",
       "  </tbody>\n",
       "</table>\n",
       "</div>"
      ],
      "text/plain": [
       "      first    last          email\n",
       "0    Kashfi   Fahim  abc@gmail.com\n",
       "1    Taseen   Fahim  def@gmail.com\n",
       "2    Albina  Rahman  ghi@gmail.com\n",
       "3  Tenzenza  Rahman  jkl@gmail.com"
      ]
     },
     "execution_count": 30,
     "metadata": {},
     "output_type": "execute_result"
    }
   ],
   "source": [
    "df"
   ]
  },
  {
   "cell_type": "code",
   "execution_count": 31,
   "id": "35350bad-76a8-48a1-ad6e-43ca3ca5aedd",
   "metadata": {},
   "outputs": [
    {
     "data": {
      "text/plain": [
       "0    abc@gmail.com\n",
       "1    def@gmail.com\n",
       "2    ghi@gmail.com\n",
       "3    jkl@gmail.com\n",
       "Name: email, dtype: object"
      ]
     },
     "execution_count": 31,
     "metadata": {},
     "output_type": "execute_result"
    }
   ],
   "source": [
    "df['email']"
   ]
  },
  {
   "cell_type": "code",
   "execution_count": 32,
   "id": "f25e6196-f0c3-4cfa-89fc-35cd96e253a8",
   "metadata": {},
   "outputs": [],
   "source": [
    "df.set_index('email', inplace=True)"
   ]
  },
  {
   "cell_type": "code",
   "execution_count": 33,
   "id": "4ea9fd39-225e-46ec-b14f-58879ed6dd13",
   "metadata": {},
   "outputs": [
    {
     "data": {
      "text/html": [
       "<div>\n",
       "<style scoped>\n",
       "    .dataframe tbody tr th:only-of-type {\n",
       "        vertical-align: middle;\n",
       "    }\n",
       "\n",
       "    .dataframe tbody tr th {\n",
       "        vertical-align: top;\n",
       "    }\n",
       "\n",
       "    .dataframe thead th {\n",
       "        text-align: right;\n",
       "    }\n",
       "</style>\n",
       "<table border=\"1\" class=\"dataframe\">\n",
       "  <thead>\n",
       "    <tr style=\"text-align: right;\">\n",
       "      <th></th>\n",
       "      <th>first</th>\n",
       "    </tr>\n",
       "    <tr>\n",
       "      <th>last</th>\n",
       "      <th></th>\n",
       "    </tr>\n",
       "  </thead>\n",
       "  <tbody>\n",
       "    <tr>\n",
       "      <th>Fahim</th>\n",
       "      <td>Kashfi</td>\n",
       "    </tr>\n",
       "    <tr>\n",
       "      <th>Fahim</th>\n",
       "      <td>Taseen</td>\n",
       "    </tr>\n",
       "    <tr>\n",
       "      <th>Rahman</th>\n",
       "      <td>Albina</td>\n",
       "    </tr>\n",
       "    <tr>\n",
       "      <th>Rahman</th>\n",
       "      <td>Tenzenza</td>\n",
       "    </tr>\n",
       "  </tbody>\n",
       "</table>\n",
       "</div>"
      ],
      "text/plain": [
       "           first\n",
       "last            \n",
       "Fahim     Kashfi\n",
       "Fahim     Taseen\n",
       "Rahman    Albina\n",
       "Rahman  Tenzenza"
      ]
     },
     "execution_count": 33,
     "metadata": {},
     "output_type": "execute_result"
    }
   ],
   "source": [
    "df.set_index('last')"
   ]
  },
  {
   "cell_type": "code",
   "execution_count": 34,
   "id": "0bc0cbbb-098f-4e5f-b483-cafc4b87fe64",
   "metadata": {},
   "outputs": [
    {
     "data": {
      "text/html": [
       "<div>\n",
       "<style scoped>\n",
       "    .dataframe tbody tr th:only-of-type {\n",
       "        vertical-align: middle;\n",
       "    }\n",
       "\n",
       "    .dataframe tbody tr th {\n",
       "        vertical-align: top;\n",
       "    }\n",
       "\n",
       "    .dataframe thead th {\n",
       "        text-align: right;\n",
       "    }\n",
       "</style>\n",
       "<table border=\"1\" class=\"dataframe\">\n",
       "  <thead>\n",
       "    <tr style=\"text-align: right;\">\n",
       "      <th></th>\n",
       "      <th>first</th>\n",
       "      <th>last</th>\n",
       "    </tr>\n",
       "    <tr>\n",
       "      <th>email</th>\n",
       "      <th></th>\n",
       "      <th></th>\n",
       "    </tr>\n",
       "  </thead>\n",
       "  <tbody>\n",
       "    <tr>\n",
       "      <th>abc@gmail.com</th>\n",
       "      <td>Kashfi</td>\n",
       "      <td>Fahim</td>\n",
       "    </tr>\n",
       "    <tr>\n",
       "      <th>def@gmail.com</th>\n",
       "      <td>Taseen</td>\n",
       "      <td>Fahim</td>\n",
       "    </tr>\n",
       "    <tr>\n",
       "      <th>ghi@gmail.com</th>\n",
       "      <td>Albina</td>\n",
       "      <td>Rahman</td>\n",
       "    </tr>\n",
       "    <tr>\n",
       "      <th>jkl@gmail.com</th>\n",
       "      <td>Tenzenza</td>\n",
       "      <td>Rahman</td>\n",
       "    </tr>\n",
       "  </tbody>\n",
       "</table>\n",
       "</div>"
      ],
      "text/plain": [
       "                  first    last\n",
       "email                          \n",
       "abc@gmail.com    Kashfi   Fahim\n",
       "def@gmail.com    Taseen   Fahim\n",
       "ghi@gmail.com    Albina  Rahman\n",
       "jkl@gmail.com  Tenzenza  Rahman"
      ]
     },
     "execution_count": 34,
     "metadata": {},
     "output_type": "execute_result"
    }
   ],
   "source": [
    "df"
   ]
  },
  {
   "cell_type": "code",
   "execution_count": 35,
   "id": "7f9b6a26-b15b-439b-8a38-5851b57701a3",
   "metadata": {},
   "outputs": [
    {
     "data": {
      "text/plain": [
       "first    Kashfi\n",
       "last      Fahim\n",
       "Name: abc@gmail.com, dtype: object"
      ]
     },
     "execution_count": 35,
     "metadata": {},
     "output_type": "execute_result"
    }
   ],
   "source": [
    "df.loc['abc@gmail.com']"
   ]
  },
  {
   "cell_type": "code",
   "execution_count": 36,
   "id": "e9e5c6a2-6d74-420c-b972-8c616028b202",
   "metadata": {},
   "outputs": [
    {
     "data": {
      "text/plain": [
       "first    Taseen\n",
       "last      Fahim\n",
       "Name: def@gmail.com, dtype: object"
      ]
     },
     "execution_count": 36,
     "metadata": {},
     "output_type": "execute_result"
    }
   ],
   "source": [
    "df.loc['def@gmail.com']"
   ]
  },
  {
   "cell_type": "code",
   "execution_count": 37,
   "id": "51d8333b-0bf4-4487-b714-565d34fc21e4",
   "metadata": {},
   "outputs": [
    {
     "data": {
      "text/plain": [
       "first    Kashfi\n",
       "last      Fahim\n",
       "Name: abc@gmail.com, dtype: object"
      ]
     },
     "execution_count": 37,
     "metadata": {},
     "output_type": "execute_result"
    }
   ],
   "source": [
    "df.iloc[0]"
   ]
  },
  {
   "cell_type": "code",
   "execution_count": 38,
   "id": "7c899090-9e98-4aaa-b62d-1760d88e535d",
   "metadata": {},
   "outputs": [
    {
     "data": {
      "text/plain": [
       "first    Albina\n",
       "last     Rahman\n",
       "Name: ghi@gmail.com, dtype: object"
      ]
     },
     "execution_count": 38,
     "metadata": {},
     "output_type": "execute_result"
    }
   ],
   "source": [
    "df.iloc[2]"
   ]
  },
  {
   "cell_type": "code",
   "execution_count": 39,
   "id": "fade45d5-088f-479b-8523-46938acef4c1",
   "metadata": {},
   "outputs": [],
   "source": [
    "df.reset_index(inplace=True)"
   ]
  },
  {
   "cell_type": "code",
   "execution_count": 40,
   "id": "6885ca1c-a655-4473-a642-a950afa9bf3f",
   "metadata": {},
   "outputs": [
    {
     "data": {
      "text/html": [
       "<div>\n",
       "<style scoped>\n",
       "    .dataframe tbody tr th:only-of-type {\n",
       "        vertical-align: middle;\n",
       "    }\n",
       "\n",
       "    .dataframe tbody tr th {\n",
       "        vertical-align: top;\n",
       "    }\n",
       "\n",
       "    .dataframe thead th {\n",
       "        text-align: right;\n",
       "    }\n",
       "</style>\n",
       "<table border=\"1\" class=\"dataframe\">\n",
       "  <thead>\n",
       "    <tr style=\"text-align: right;\">\n",
       "      <th></th>\n",
       "      <th>email</th>\n",
       "      <th>first</th>\n",
       "      <th>last</th>\n",
       "    </tr>\n",
       "  </thead>\n",
       "  <tbody>\n",
       "    <tr>\n",
       "      <th>0</th>\n",
       "      <td>abc@gmail.com</td>\n",
       "      <td>Kashfi</td>\n",
       "      <td>Fahim</td>\n",
       "    </tr>\n",
       "    <tr>\n",
       "      <th>1</th>\n",
       "      <td>def@gmail.com</td>\n",
       "      <td>Taseen</td>\n",
       "      <td>Fahim</td>\n",
       "    </tr>\n",
       "    <tr>\n",
       "      <th>2</th>\n",
       "      <td>ghi@gmail.com</td>\n",
       "      <td>Albina</td>\n",
       "      <td>Rahman</td>\n",
       "    </tr>\n",
       "    <tr>\n",
       "      <th>3</th>\n",
       "      <td>jkl@gmail.com</td>\n",
       "      <td>Tenzenza</td>\n",
       "      <td>Rahman</td>\n",
       "    </tr>\n",
       "  </tbody>\n",
       "</table>\n",
       "</div>"
      ],
      "text/plain": [
       "           email     first    last\n",
       "0  abc@gmail.com    Kashfi   Fahim\n",
       "1  def@gmail.com    Taseen   Fahim\n",
       "2  ghi@gmail.com    Albina  Rahman\n",
       "3  jkl@gmail.com  Tenzenza  Rahman"
      ]
     },
     "execution_count": 40,
     "metadata": {},
     "output_type": "execute_result"
    }
   ],
   "source": [
    "df"
   ]
  },
  {
   "cell_type": "code",
   "execution_count": 41,
   "id": "ef18c53f-e103-4101-bbe8-cce2637ae05c",
   "metadata": {},
   "outputs": [
    {
     "data": {
      "text/plain": [
       "0     True\n",
       "1     True\n",
       "2    False\n",
       "3    False\n",
       "Name: last, dtype: bool"
      ]
     },
     "execution_count": 41,
     "metadata": {},
     "output_type": "execute_result"
    }
   ],
   "source": [
    "# Comparison\n",
    "df['last'] == 'Fahim' # Filter mask"
   ]
  },
  {
   "cell_type": "code",
   "execution_count": 42,
   "id": "3871ca4c-580e-429e-8234-f5ebdd43525a",
   "metadata": {},
   "outputs": [],
   "source": [
    "filt = (df['last'] == 'Rahman')"
   ]
  },
  {
   "cell_type": "code",
   "execution_count": 43,
   "id": "1c3ebd0b-c8da-4b88-a81f-0b3b338cbdeb",
   "metadata": {},
   "outputs": [
    {
     "data": {
      "text/html": [
       "<div>\n",
       "<style scoped>\n",
       "    .dataframe tbody tr th:only-of-type {\n",
       "        vertical-align: middle;\n",
       "    }\n",
       "\n",
       "    .dataframe tbody tr th {\n",
       "        vertical-align: top;\n",
       "    }\n",
       "\n",
       "    .dataframe thead th {\n",
       "        text-align: right;\n",
       "    }\n",
       "</style>\n",
       "<table border=\"1\" class=\"dataframe\">\n",
       "  <thead>\n",
       "    <tr style=\"text-align: right;\">\n",
       "      <th></th>\n",
       "      <th>email</th>\n",
       "      <th>first</th>\n",
       "      <th>last</th>\n",
       "    </tr>\n",
       "  </thead>\n",
       "  <tbody>\n",
       "    <tr>\n",
       "      <th>2</th>\n",
       "      <td>ghi@gmail.com</td>\n",
       "      <td>Albina</td>\n",
       "      <td>Rahman</td>\n",
       "    </tr>\n",
       "    <tr>\n",
       "      <th>3</th>\n",
       "      <td>jkl@gmail.com</td>\n",
       "      <td>Tenzenza</td>\n",
       "      <td>Rahman</td>\n",
       "    </tr>\n",
       "  </tbody>\n",
       "</table>\n",
       "</div>"
      ],
      "text/plain": [
       "           email     first    last\n",
       "2  ghi@gmail.com    Albina  Rahman\n",
       "3  jkl@gmail.com  Tenzenza  Rahman"
      ]
     },
     "execution_count": 43,
     "metadata": {},
     "output_type": "execute_result"
    }
   ],
   "source": [
    "df[filt]"
   ]
  },
  {
   "cell_type": "code",
   "execution_count": 44,
   "id": "85ee1b5f-b3dc-4212-beb0-d5a3c26a3c28",
   "metadata": {},
   "outputs": [
    {
     "data": {
      "text/html": [
       "<div>\n",
       "<style scoped>\n",
       "    .dataframe tbody tr th:only-of-type {\n",
       "        vertical-align: middle;\n",
       "    }\n",
       "\n",
       "    .dataframe tbody tr th {\n",
       "        vertical-align: top;\n",
       "    }\n",
       "\n",
       "    .dataframe thead th {\n",
       "        text-align: right;\n",
       "    }\n",
       "</style>\n",
       "<table border=\"1\" class=\"dataframe\">\n",
       "  <thead>\n",
       "    <tr style=\"text-align: right;\">\n",
       "      <th></th>\n",
       "      <th>email</th>\n",
       "      <th>first</th>\n",
       "      <th>last</th>\n",
       "    </tr>\n",
       "  </thead>\n",
       "  <tbody>\n",
       "    <tr>\n",
       "      <th>2</th>\n",
       "      <td>ghi@gmail.com</td>\n",
       "      <td>Albina</td>\n",
       "      <td>Rahman</td>\n",
       "    </tr>\n",
       "    <tr>\n",
       "      <th>3</th>\n",
       "      <td>jkl@gmail.com</td>\n",
       "      <td>Tenzenza</td>\n",
       "      <td>Rahman</td>\n",
       "    </tr>\n",
       "  </tbody>\n",
       "</table>\n",
       "</div>"
      ],
      "text/plain": [
       "           email     first    last\n",
       "2  ghi@gmail.com    Albina  Rahman\n",
       "3  jkl@gmail.com  Tenzenza  Rahman"
      ]
     },
     "execution_count": 44,
     "metadata": {},
     "output_type": "execute_result"
    }
   ],
   "source": [
    "df.loc[filt] # passing in a series of booleans to filter data out"
   ]
  },
  {
   "cell_type": "code",
   "execution_count": 45,
   "id": "4c1b055c-cfa0-4c4d-b860-6cf6e8dc63d0",
   "metadata": {},
   "outputs": [
    {
     "data": {
      "text/plain": [
       "2    ghi@gmail.com\n",
       "3    jkl@gmail.com\n",
       "Name: email, dtype: object"
      ]
     },
     "execution_count": 45,
     "metadata": {},
     "output_type": "execute_result"
    }
   ],
   "source": [
    "df.loc[filt, 'email']"
   ]
  },
  {
   "cell_type": "code",
   "execution_count": 46,
   "id": "e51013fc-5db4-4343-b55c-a4da0f7071b3",
   "metadata": {},
   "outputs": [],
   "source": [
    "filt2 = (df['last'] == 'Fahim') & (df['first'] == 'Kashfi')"
   ]
  },
  {
   "cell_type": "code",
   "execution_count": 47,
   "id": "c4c3fb9f-9301-428a-9682-d58979738506",
   "metadata": {},
   "outputs": [
    {
     "data": {
      "text/plain": [
       "0    abc@gmail.com\n",
       "Name: email, dtype: object"
      ]
     },
     "execution_count": 47,
     "metadata": {},
     "output_type": "execute_result"
    }
   ],
   "source": [
    "df.loc[filt2, 'email']"
   ]
  },
  {
   "cell_type": "code",
   "execution_count": 48,
   "id": "3f90d825-ff42-48f1-9287-9963f840d2c0",
   "metadata": {},
   "outputs": [
    {
     "data": {
      "text/html": [
       "<div>\n",
       "<style scoped>\n",
       "    .dataframe tbody tr th:only-of-type {\n",
       "        vertical-align: middle;\n",
       "    }\n",
       "\n",
       "    .dataframe tbody tr th {\n",
       "        vertical-align: top;\n",
       "    }\n",
       "\n",
       "    .dataframe thead th {\n",
       "        text-align: right;\n",
       "    }\n",
       "</style>\n",
       "<table border=\"1\" class=\"dataframe\">\n",
       "  <thead>\n",
       "    <tr style=\"text-align: right;\">\n",
       "      <th></th>\n",
       "      <th>email</th>\n",
       "      <th>first</th>\n",
       "      <th>last</th>\n",
       "    </tr>\n",
       "  </thead>\n",
       "  <tbody>\n",
       "    <tr>\n",
       "      <th>0</th>\n",
       "      <td>abc@gmail.com</td>\n",
       "      <td>Kashfi</td>\n",
       "      <td>Fahim</td>\n",
       "    </tr>\n",
       "    <tr>\n",
       "      <th>1</th>\n",
       "      <td>def@gmail.com</td>\n",
       "      <td>Taseen</td>\n",
       "      <td>Fahim</td>\n",
       "    </tr>\n",
       "    <tr>\n",
       "      <th>2</th>\n",
       "      <td>ghi@gmail.com</td>\n",
       "      <td>Albina</td>\n",
       "      <td>Rahman</td>\n",
       "    </tr>\n",
       "    <tr>\n",
       "      <th>3</th>\n",
       "      <td>jkl@gmail.com</td>\n",
       "      <td>Tenzenza</td>\n",
       "      <td>Rahman</td>\n",
       "    </tr>\n",
       "  </tbody>\n",
       "</table>\n",
       "</div>"
      ],
      "text/plain": [
       "           email     first    last\n",
       "0  abc@gmail.com    Kashfi   Fahim\n",
       "1  def@gmail.com    Taseen   Fahim\n",
       "2  ghi@gmail.com    Albina  Rahman\n",
       "3  jkl@gmail.com  Tenzenza  Rahman"
      ]
     },
     "execution_count": 48,
     "metadata": {},
     "output_type": "execute_result"
    }
   ],
   "source": [
    "df"
   ]
  },
  {
   "cell_type": "code",
   "execution_count": 49,
   "id": "f9c86c67-d4b2-42b9-b34a-8754dab64829",
   "metadata": {},
   "outputs": [
    {
     "data": {
      "text/plain": [
       "Index(['email', 'first', 'last'], dtype='object')"
      ]
     },
     "execution_count": 49,
     "metadata": {},
     "output_type": "execute_result"
    }
   ],
   "source": [
    "df.columns"
   ]
  },
  {
   "cell_type": "markdown",
   "id": "fc8cca4f-1292-434e-b985-6aa1aa3a3071",
   "metadata": {},
   "source": [
    "# Rename columns"
   ]
  },
  {
   "cell_type": "code",
   "execution_count": 50,
   "id": "80cf372e-3ea3-41fa-9fb5-b6a287b9dd87",
   "metadata": {},
   "outputs": [],
   "source": [
    "df.columns = ['first_name', 'last_name', 'email']"
   ]
  },
  {
   "cell_type": "code",
   "execution_count": 51,
   "id": "cb35b290-0851-44e3-8618-086008937a4f",
   "metadata": {},
   "outputs": [
    {
     "data": {
      "text/html": [
       "<div>\n",
       "<style scoped>\n",
       "    .dataframe tbody tr th:only-of-type {\n",
       "        vertical-align: middle;\n",
       "    }\n",
       "\n",
       "    .dataframe tbody tr th {\n",
       "        vertical-align: top;\n",
       "    }\n",
       "\n",
       "    .dataframe thead th {\n",
       "        text-align: right;\n",
       "    }\n",
       "</style>\n",
       "<table border=\"1\" class=\"dataframe\">\n",
       "  <thead>\n",
       "    <tr style=\"text-align: right;\">\n",
       "      <th></th>\n",
       "      <th>first_name</th>\n",
       "      <th>last_name</th>\n",
       "      <th>email</th>\n",
       "    </tr>\n",
       "  </thead>\n",
       "  <tbody>\n",
       "    <tr>\n",
       "      <th>0</th>\n",
       "      <td>abc@gmail.com</td>\n",
       "      <td>Kashfi</td>\n",
       "      <td>Fahim</td>\n",
       "    </tr>\n",
       "    <tr>\n",
       "      <th>1</th>\n",
       "      <td>def@gmail.com</td>\n",
       "      <td>Taseen</td>\n",
       "      <td>Fahim</td>\n",
       "    </tr>\n",
       "    <tr>\n",
       "      <th>2</th>\n",
       "      <td>ghi@gmail.com</td>\n",
       "      <td>Albina</td>\n",
       "      <td>Rahman</td>\n",
       "    </tr>\n",
       "    <tr>\n",
       "      <th>3</th>\n",
       "      <td>jkl@gmail.com</td>\n",
       "      <td>Tenzenza</td>\n",
       "      <td>Rahman</td>\n",
       "    </tr>\n",
       "  </tbody>\n",
       "</table>\n",
       "</div>"
      ],
      "text/plain": [
       "      first_name last_name   email\n",
       "0  abc@gmail.com    Kashfi   Fahim\n",
       "1  def@gmail.com    Taseen   Fahim\n",
       "2  ghi@gmail.com    Albina  Rahman\n",
       "3  jkl@gmail.com  Tenzenza  Rahman"
      ]
     },
     "execution_count": 51,
     "metadata": {},
     "output_type": "execute_result"
    }
   ],
   "source": [
    "df"
   ]
  },
  {
   "cell_type": "markdown",
   "id": "26282acd-1ad1-42f5-a1c7-46c5ede146f1",
   "metadata": {},
   "source": [
    "# List Comprehension"
   ]
  },
  {
   "cell_type": "code",
   "execution_count": 52,
   "id": "d8c5ed1c-54bc-436e-8f9c-2fff1ff928b1",
   "metadata": {},
   "outputs": [],
   "source": [
    "df.columns = [x.upper() for x in df.columns]"
   ]
  },
  {
   "cell_type": "code",
   "execution_count": 53,
   "id": "eb64921c-fffc-4fe1-8a98-6ea3d22f0801",
   "metadata": {},
   "outputs": [
    {
     "data": {
      "text/html": [
       "<div>\n",
       "<style scoped>\n",
       "    .dataframe tbody tr th:only-of-type {\n",
       "        vertical-align: middle;\n",
       "    }\n",
       "\n",
       "    .dataframe tbody tr th {\n",
       "        vertical-align: top;\n",
       "    }\n",
       "\n",
       "    .dataframe thead th {\n",
       "        text-align: right;\n",
       "    }\n",
       "</style>\n",
       "<table border=\"1\" class=\"dataframe\">\n",
       "  <thead>\n",
       "    <tr style=\"text-align: right;\">\n",
       "      <th></th>\n",
       "      <th>FIRST_NAME</th>\n",
       "      <th>LAST_NAME</th>\n",
       "      <th>EMAIL</th>\n",
       "    </tr>\n",
       "  </thead>\n",
       "  <tbody>\n",
       "    <tr>\n",
       "      <th>0</th>\n",
       "      <td>abc@gmail.com</td>\n",
       "      <td>Kashfi</td>\n",
       "      <td>Fahim</td>\n",
       "    </tr>\n",
       "    <tr>\n",
       "      <th>1</th>\n",
       "      <td>def@gmail.com</td>\n",
       "      <td>Taseen</td>\n",
       "      <td>Fahim</td>\n",
       "    </tr>\n",
       "    <tr>\n",
       "      <th>2</th>\n",
       "      <td>ghi@gmail.com</td>\n",
       "      <td>Albina</td>\n",
       "      <td>Rahman</td>\n",
       "    </tr>\n",
       "    <tr>\n",
       "      <th>3</th>\n",
       "      <td>jkl@gmail.com</td>\n",
       "      <td>Tenzenza</td>\n",
       "      <td>Rahman</td>\n",
       "    </tr>\n",
       "  </tbody>\n",
       "</table>\n",
       "</div>"
      ],
      "text/plain": [
       "      FIRST_NAME LAST_NAME   EMAIL\n",
       "0  abc@gmail.com    Kashfi   Fahim\n",
       "1  def@gmail.com    Taseen   Fahim\n",
       "2  ghi@gmail.com    Albina  Rahman\n",
       "3  jkl@gmail.com  Tenzenza  Rahman"
      ]
     },
     "execution_count": 53,
     "metadata": {},
     "output_type": "execute_result"
    }
   ],
   "source": [
    "df"
   ]
  },
  {
   "cell_type": "code",
   "execution_count": 56,
   "id": "bc00255c-5794-4524-abe3-fcdcdc810266",
   "metadata": {},
   "outputs": [],
   "source": [
    "rename_dict = {\n",
    "    'FIRST_NAME': 'first',\n",
    "    'LAST_NAME': 'last'\n",
    "}"
   ]
  },
  {
   "cell_type": "code",
   "execution_count": 57,
   "id": "c9ec6ab0-e911-4eb0-94f6-33f94f34ce79",
   "metadata": {},
   "outputs": [],
   "source": [
    "df.rename(columns = rename_dict, inplace=True)"
   ]
  },
  {
   "cell_type": "code",
   "execution_count": 58,
   "id": "a4375ec7-fd5d-406d-a9ea-cf2ba388c5b1",
   "metadata": {},
   "outputs": [
    {
     "data": {
      "text/html": [
       "<div>\n",
       "<style scoped>\n",
       "    .dataframe tbody tr th:only-of-type {\n",
       "        vertical-align: middle;\n",
       "    }\n",
       "\n",
       "    .dataframe tbody tr th {\n",
       "        vertical-align: top;\n",
       "    }\n",
       "\n",
       "    .dataframe thead th {\n",
       "        text-align: right;\n",
       "    }\n",
       "</style>\n",
       "<table border=\"1\" class=\"dataframe\">\n",
       "  <thead>\n",
       "    <tr style=\"text-align: right;\">\n",
       "      <th></th>\n",
       "      <th>first</th>\n",
       "      <th>last</th>\n",
       "      <th>EMAIL</th>\n",
       "    </tr>\n",
       "  </thead>\n",
       "  <tbody>\n",
       "    <tr>\n",
       "      <th>0</th>\n",
       "      <td>abc@gmail.com</td>\n",
       "      <td>Kashfi</td>\n",
       "      <td>Fahim</td>\n",
       "    </tr>\n",
       "    <tr>\n",
       "      <th>1</th>\n",
       "      <td>def@gmail.com</td>\n",
       "      <td>Taseen</td>\n",
       "      <td>Fahim</td>\n",
       "    </tr>\n",
       "    <tr>\n",
       "      <th>2</th>\n",
       "      <td>ghi@gmail.com</td>\n",
       "      <td>Albina</td>\n",
       "      <td>Rahman</td>\n",
       "    </tr>\n",
       "    <tr>\n",
       "      <th>3</th>\n",
       "      <td>jkl@gmail.com</td>\n",
       "      <td>Tenzenza</td>\n",
       "      <td>Rahman</td>\n",
       "    </tr>\n",
       "  </tbody>\n",
       "</table>\n",
       "</div>"
      ],
      "text/plain": [
       "           first      last   EMAIL\n",
       "0  abc@gmail.com    Kashfi   Fahim\n",
       "1  def@gmail.com    Taseen   Fahim\n",
       "2  ghi@gmail.com    Albina  Rahman\n",
       "3  jkl@gmail.com  Tenzenza  Rahman"
      ]
     },
     "execution_count": 58,
     "metadata": {},
     "output_type": "execute_result"
    }
   ],
   "source": [
    "df"
   ]
  },
  {
   "cell_type": "markdown",
   "id": "a182579e-c528-474c-ae60-c3d7aeee638a",
   "metadata": {},
   "source": [
    "# Updating Rows"
   ]
  },
  {
   "cell_type": "code",
   "execution_count": 59,
   "id": "f228f471-2ef4-45b3-953a-35153e82429b",
   "metadata": {},
   "outputs": [
    {
     "data": {
      "text/plain": [
       "first    ghi@gmail.com\n",
       "last            Albina\n",
       "EMAIL           Rahman\n",
       "Name: 2, dtype: object"
      ]
     },
     "execution_count": 59,
     "metadata": {},
     "output_type": "execute_result"
    }
   ],
   "source": [
    "# grab row with index\n",
    "df.loc[2]"
   ]
  },
  {
   "cell_type": "code",
   "execution_count": 60,
   "id": "f688ffbc-d94c-4563-853d-b33f8c7ddba7",
   "metadata": {},
   "outputs": [],
   "source": [
    "# pass in new values\n",
    "df.loc[2] = ['John', 'Smith', 'JohnSmith@email.com']"
   ]
  },
  {
   "cell_type": "code",
   "execution_count": 61,
   "id": "99ba5650-3af7-4bc9-9e52-6ccfec7c08a2",
   "metadata": {},
   "outputs": [
    {
     "data": {
      "text/html": [
       "<div>\n",
       "<style scoped>\n",
       "    .dataframe tbody tr th:only-of-type {\n",
       "        vertical-align: middle;\n",
       "    }\n",
       "\n",
       "    .dataframe tbody tr th {\n",
       "        vertical-align: top;\n",
       "    }\n",
       "\n",
       "    .dataframe thead th {\n",
       "        text-align: right;\n",
       "    }\n",
       "</style>\n",
       "<table border=\"1\" class=\"dataframe\">\n",
       "  <thead>\n",
       "    <tr style=\"text-align: right;\">\n",
       "      <th></th>\n",
       "      <th>first</th>\n",
       "      <th>last</th>\n",
       "      <th>EMAIL</th>\n",
       "    </tr>\n",
       "  </thead>\n",
       "  <tbody>\n",
       "    <tr>\n",
       "      <th>0</th>\n",
       "      <td>abc@gmail.com</td>\n",
       "      <td>Kashfi</td>\n",
       "      <td>Fahim</td>\n",
       "    </tr>\n",
       "    <tr>\n",
       "      <th>1</th>\n",
       "      <td>def@gmail.com</td>\n",
       "      <td>Taseen</td>\n",
       "      <td>Fahim</td>\n",
       "    </tr>\n",
       "    <tr>\n",
       "      <th>2</th>\n",
       "      <td>John</td>\n",
       "      <td>Smith</td>\n",
       "      <td>JohnSmith@email.com</td>\n",
       "    </tr>\n",
       "    <tr>\n",
       "      <th>3</th>\n",
       "      <td>jkl@gmail.com</td>\n",
       "      <td>Tenzenza</td>\n",
       "      <td>Rahman</td>\n",
       "    </tr>\n",
       "  </tbody>\n",
       "</table>\n",
       "</div>"
      ],
      "text/plain": [
       "           first      last                EMAIL\n",
       "0  abc@gmail.com    Kashfi                Fahim\n",
       "1  def@gmail.com    Taseen                Fahim\n",
       "2           John     Smith  JohnSmith@email.com\n",
       "3  jkl@gmail.com  Tenzenza               Rahman"
      ]
     },
     "execution_count": 61,
     "metadata": {},
     "output_type": "execute_result"
    }
   ],
   "source": [
    "df"
   ]
  },
  {
   "cell_type": "code",
   "execution_count": 64,
   "id": "7b874838-7e14-42ec-a706-cdbb24064187",
   "metadata": {},
   "outputs": [],
   "source": [
    "df.loc[2, ['last', 'EMAIL']] = ['Rahman', 'ark@gmail.com']"
   ]
  },
  {
   "cell_type": "code",
   "execution_count": 65,
   "id": "4aea5431-508c-45e0-b49e-c4c46d6c427b",
   "metadata": {},
   "outputs": [
    {
     "data": {
      "text/html": [
       "<div>\n",
       "<style scoped>\n",
       "    .dataframe tbody tr th:only-of-type {\n",
       "        vertical-align: middle;\n",
       "    }\n",
       "\n",
       "    .dataframe tbody tr th {\n",
       "        vertical-align: top;\n",
       "    }\n",
       "\n",
       "    .dataframe thead th {\n",
       "        text-align: right;\n",
       "    }\n",
       "</style>\n",
       "<table border=\"1\" class=\"dataframe\">\n",
       "  <thead>\n",
       "    <tr style=\"text-align: right;\">\n",
       "      <th></th>\n",
       "      <th>first</th>\n",
       "      <th>last</th>\n",
       "      <th>EMAIL</th>\n",
       "    </tr>\n",
       "  </thead>\n",
       "  <tbody>\n",
       "    <tr>\n",
       "      <th>0</th>\n",
       "      <td>abc@gmail.com</td>\n",
       "      <td>Kashfi</td>\n",
       "      <td>Fahim</td>\n",
       "    </tr>\n",
       "    <tr>\n",
       "      <th>1</th>\n",
       "      <td>def@gmail.com</td>\n",
       "      <td>Taseen</td>\n",
       "      <td>Fahim</td>\n",
       "    </tr>\n",
       "    <tr>\n",
       "      <th>2</th>\n",
       "      <td>John</td>\n",
       "      <td>Rahman</td>\n",
       "      <td>ark@gmail.com</td>\n",
       "    </tr>\n",
       "    <tr>\n",
       "      <th>3</th>\n",
       "      <td>jkl@gmail.com</td>\n",
       "      <td>Tenzenza</td>\n",
       "      <td>Rahman</td>\n",
       "    </tr>\n",
       "  </tbody>\n",
       "</table>\n",
       "</div>"
      ],
      "text/plain": [
       "           first      last          EMAIL\n",
       "0  abc@gmail.com    Kashfi          Fahim\n",
       "1  def@gmail.com    Taseen          Fahim\n",
       "2           John    Rahman  ark@gmail.com\n",
       "3  jkl@gmail.com  Tenzenza         Rahman"
      ]
     },
     "execution_count": 65,
     "metadata": {},
     "output_type": "execute_result"
    }
   ],
   "source": [
    "df"
   ]
  },
  {
   "cell_type": "code",
   "execution_count": 66,
   "id": "4db281a3-b4cc-4431-afa6-efaf3e9da453",
   "metadata": {},
   "outputs": [],
   "source": [
    "df.loc[2, 'first'] = 'Albina'"
   ]
  },
  {
   "cell_type": "code",
   "execution_count": 67,
   "id": "8424f95e-c4a4-4854-9759-b2eea140da75",
   "metadata": {},
   "outputs": [
    {
     "data": {
      "text/html": [
       "<div>\n",
       "<style scoped>\n",
       "    .dataframe tbody tr th:only-of-type {\n",
       "        vertical-align: middle;\n",
       "    }\n",
       "\n",
       "    .dataframe tbody tr th {\n",
       "        vertical-align: top;\n",
       "    }\n",
       "\n",
       "    .dataframe thead th {\n",
       "        text-align: right;\n",
       "    }\n",
       "</style>\n",
       "<table border=\"1\" class=\"dataframe\">\n",
       "  <thead>\n",
       "    <tr style=\"text-align: right;\">\n",
       "      <th></th>\n",
       "      <th>first</th>\n",
       "      <th>last</th>\n",
       "      <th>EMAIL</th>\n",
       "    </tr>\n",
       "  </thead>\n",
       "  <tbody>\n",
       "    <tr>\n",
       "      <th>0</th>\n",
       "      <td>abc@gmail.com</td>\n",
       "      <td>Kashfi</td>\n",
       "      <td>Fahim</td>\n",
       "    </tr>\n",
       "    <tr>\n",
       "      <th>1</th>\n",
       "      <td>def@gmail.com</td>\n",
       "      <td>Taseen</td>\n",
       "      <td>Fahim</td>\n",
       "    </tr>\n",
       "    <tr>\n",
       "      <th>2</th>\n",
       "      <td>Albina</td>\n",
       "      <td>Rahman</td>\n",
       "      <td>ark@gmail.com</td>\n",
       "    </tr>\n",
       "    <tr>\n",
       "      <th>3</th>\n",
       "      <td>jkl@gmail.com</td>\n",
       "      <td>Tenzenza</td>\n",
       "      <td>Rahman</td>\n",
       "    </tr>\n",
       "  </tbody>\n",
       "</table>\n",
       "</div>"
      ],
      "text/plain": [
       "           first      last          EMAIL\n",
       "0  abc@gmail.com    Kashfi          Fahim\n",
       "1  def@gmail.com    Taseen          Fahim\n",
       "2         Albina    Rahman  ark@gmail.com\n",
       "3  jkl@gmail.com  Tenzenza         Rahman"
      ]
     },
     "execution_count": 67,
     "metadata": {},
     "output_type": "execute_result"
    }
   ],
   "source": [
    "df"
   ]
  },
  {
   "cell_type": "markdown",
   "id": "0f24f68a-8d1a-41e7-a09e-541625d4d4c0",
   "metadata": {},
   "source": [
    "# Trying to change the value without indexer"
   ]
  },
  {
   "cell_type": "code",
   "execution_count": 68,
   "id": "043101ed-7ab3-42d5-8b7b-66975e70d828",
   "metadata": {},
   "outputs": [
    {
     "data": {
      "text/html": [
       "<div>\n",
       "<style scoped>\n",
       "    .dataframe tbody tr th:only-of-type {\n",
       "        vertical-align: middle;\n",
       "    }\n",
       "\n",
       "    .dataframe tbody tr th {\n",
       "        vertical-align: top;\n",
       "    }\n",
       "\n",
       "    .dataframe thead th {\n",
       "        text-align: right;\n",
       "    }\n",
       "</style>\n",
       "<table border=\"1\" class=\"dataframe\">\n",
       "  <thead>\n",
       "    <tr style=\"text-align: right;\">\n",
       "      <th></th>\n",
       "      <th>first</th>\n",
       "      <th>last</th>\n",
       "      <th>EMAIL</th>\n",
       "    </tr>\n",
       "  </thead>\n",
       "  <tbody>\n",
       "    <tr>\n",
       "      <th>0</th>\n",
       "      <td>abc@gmail.com</td>\n",
       "      <td>Kashfi</td>\n",
       "      <td>Fahim</td>\n",
       "    </tr>\n",
       "    <tr>\n",
       "      <th>1</th>\n",
       "      <td>def@gmail.com</td>\n",
       "      <td>Taseen</td>\n",
       "      <td>Fahim</td>\n",
       "    </tr>\n",
       "    <tr>\n",
       "      <th>2</th>\n",
       "      <td>Albina</td>\n",
       "      <td>Rahman</td>\n",
       "      <td>ark@gmail.com</td>\n",
       "    </tr>\n",
       "    <tr>\n",
       "      <th>3</th>\n",
       "      <td>jkl@gmail.com</td>\n",
       "      <td>Tenzenza</td>\n",
       "      <td>Rahman</td>\n",
       "    </tr>\n",
       "  </tbody>\n",
       "</table>\n",
       "</div>"
      ],
      "text/plain": [
       "           first      last          EMAIL\n",
       "0  abc@gmail.com    Kashfi          Fahim\n",
       "1  def@gmail.com    Taseen          Fahim\n",
       "2         Albina    Rahman  ark@gmail.com\n",
       "3  jkl@gmail.com  Tenzenza         Rahman"
      ]
     },
     "execution_count": 68,
     "metadata": {},
     "output_type": "execute_result"
    }
   ],
   "source": [
    "df"
   ]
  },
  {
   "cell_type": "code",
   "execution_count": 73,
   "id": "dd29fb68-4b46-4769-83aa-1a7d2d874415",
   "metadata": {},
   "outputs": [
    {
     "data": {
      "text/html": [
       "<div>\n",
       "<style scoped>\n",
       "    .dataframe tbody tr th:only-of-type {\n",
       "        vertical-align: middle;\n",
       "    }\n",
       "\n",
       "    .dataframe tbody tr th {\n",
       "        vertical-align: top;\n",
       "    }\n",
       "\n",
       "    .dataframe thead th {\n",
       "        text-align: right;\n",
       "    }\n",
       "</style>\n",
       "<table border=\"1\" class=\"dataframe\">\n",
       "  <thead>\n",
       "    <tr style=\"text-align: right;\">\n",
       "      <th></th>\n",
       "      <th>first</th>\n",
       "      <th>last</th>\n",
       "      <th>EMAIL</th>\n",
       "    </tr>\n",
       "  </thead>\n",
       "  <tbody>\n",
       "    <tr>\n",
       "      <th>2</th>\n",
       "      <td>Albina</td>\n",
       "      <td>Rahman</td>\n",
       "      <td>ark@gmail.com</td>\n",
       "    </tr>\n",
       "  </tbody>\n",
       "</table>\n",
       "</div>"
      ],
      "text/plain": [
       "    first    last          EMAIL\n",
       "2  Albina  Rahman  ark@gmail.com"
      ]
     },
     "execution_count": 73,
     "metadata": {},
     "output_type": "execute_result"
    }
   ],
   "source": [
    "filter3 = (df['EMAIL'] == 'ark@gmail.com')\n",
    "df[filter3]"
   ]
  },
  {
   "cell_type": "code",
   "execution_count": 74,
   "id": "33e53728-ccad-436d-ae00-52614f077e92",
   "metadata": {},
   "outputs": [
    {
     "data": {
      "text/plain": [
       "2    Rahman\n",
       "Name: last, dtype: object"
      ]
     },
     "execution_count": 74,
     "metadata": {},
     "output_type": "execute_result"
    }
   ],
   "source": [
    "df[filter3]['last']"
   ]
  },
  {
   "cell_type": "code",
   "execution_count": 75,
   "id": "6b0bd387-a342-4c73-b43f-f05f6f70fb87",
   "metadata": {},
   "outputs": [
    {
     "name": "stderr",
     "output_type": "stream",
     "text": [
      "/var/folders/9g/tp353cz91nz8wyjz3wdss3gw0000gn/T/ipykernel_7041/74696940.py:1: SettingWithCopyWarning: \n",
      "A value is trying to be set on a copy of a slice from a DataFrame.\n",
      "Try using .loc[row_indexer,col_indexer] = value instead\n",
      "\n",
      "See the caveats in the documentation: https://pandas.pydata.org/pandas-docs/stable/user_guide/indexing.html#returning-a-view-versus-a-copy\n",
      "  df[filter3]['last'] = 'Smith'\n"
     ]
    }
   ],
   "source": [
    "df[filter3]['last'] = 'Smith'"
   ]
  },
  {
   "cell_type": "code",
   "execution_count": 76,
   "id": "7c6213a8-3812-427f-aa19-2ef2f4ce17e5",
   "metadata": {},
   "outputs": [
    {
     "data": {
      "text/html": [
       "<div>\n",
       "<style scoped>\n",
       "    .dataframe tbody tr th:only-of-type {\n",
       "        vertical-align: middle;\n",
       "    }\n",
       "\n",
       "    .dataframe tbody tr th {\n",
       "        vertical-align: top;\n",
       "    }\n",
       "\n",
       "    .dataframe thead th {\n",
       "        text-align: right;\n",
       "    }\n",
       "</style>\n",
       "<table border=\"1\" class=\"dataframe\">\n",
       "  <thead>\n",
       "    <tr style=\"text-align: right;\">\n",
       "      <th></th>\n",
       "      <th>first</th>\n",
       "      <th>last</th>\n",
       "      <th>EMAIL</th>\n",
       "    </tr>\n",
       "  </thead>\n",
       "  <tbody>\n",
       "    <tr>\n",
       "      <th>0</th>\n",
       "      <td>abc@gmail.com</td>\n",
       "      <td>Kashfi</td>\n",
       "      <td>Fahim</td>\n",
       "    </tr>\n",
       "    <tr>\n",
       "      <th>1</th>\n",
       "      <td>def@gmail.com</td>\n",
       "      <td>Taseen</td>\n",
       "      <td>Fahim</td>\n",
       "    </tr>\n",
       "    <tr>\n",
       "      <th>2</th>\n",
       "      <td>Albina</td>\n",
       "      <td>Rahman</td>\n",
       "      <td>ark@gmail.com</td>\n",
       "    </tr>\n",
       "    <tr>\n",
       "      <th>3</th>\n",
       "      <td>jkl@gmail.com</td>\n",
       "      <td>Tenzenza</td>\n",
       "      <td>Rahman</td>\n",
       "    </tr>\n",
       "  </tbody>\n",
       "</table>\n",
       "</div>"
      ],
      "text/plain": [
       "           first      last          EMAIL\n",
       "0  abc@gmail.com    Kashfi          Fahim\n",
       "1  def@gmail.com    Taseen          Fahim\n",
       "2         Albina    Rahman  ark@gmail.com\n",
       "3  jkl@gmail.com  Tenzenza         Rahman"
      ]
     },
     "execution_count": 76,
     "metadata": {},
     "output_type": "execute_result"
    }
   ],
   "source": [
    "df"
   ]
  },
  {
   "cell_type": "markdown",
   "id": "0c58e521-8f4f-4b83-abcf-f1d52943b8fb",
   "metadata": {
    "tags": []
   },
   "source": [
    "# When setting values, use .loc"
   ]
  },
  {
   "cell_type": "code",
   "execution_count": 77,
   "id": "50fd9c86-a6a7-4842-a955-b34460058c21",
   "metadata": {},
   "outputs": [],
   "source": [
    "df.loc[filter3, 'last'] = 'Smith'"
   ]
  },
  {
   "cell_type": "code",
   "execution_count": 78,
   "id": "6924dd2e-7ff2-4948-8eee-0db429a70f0c",
   "metadata": {},
   "outputs": [
    {
     "data": {
      "text/html": [
       "<div>\n",
       "<style scoped>\n",
       "    .dataframe tbody tr th:only-of-type {\n",
       "        vertical-align: middle;\n",
       "    }\n",
       "\n",
       "    .dataframe tbody tr th {\n",
       "        vertical-align: top;\n",
       "    }\n",
       "\n",
       "    .dataframe thead th {\n",
       "        text-align: right;\n",
       "    }\n",
       "</style>\n",
       "<table border=\"1\" class=\"dataframe\">\n",
       "  <thead>\n",
       "    <tr style=\"text-align: right;\">\n",
       "      <th></th>\n",
       "      <th>first</th>\n",
       "      <th>last</th>\n",
       "      <th>EMAIL</th>\n",
       "    </tr>\n",
       "  </thead>\n",
       "  <tbody>\n",
       "    <tr>\n",
       "      <th>0</th>\n",
       "      <td>abc@gmail.com</td>\n",
       "      <td>Kashfi</td>\n",
       "      <td>Fahim</td>\n",
       "    </tr>\n",
       "    <tr>\n",
       "      <th>1</th>\n",
       "      <td>def@gmail.com</td>\n",
       "      <td>Taseen</td>\n",
       "      <td>Fahim</td>\n",
       "    </tr>\n",
       "    <tr>\n",
       "      <th>2</th>\n",
       "      <td>Albina</td>\n",
       "      <td>Smith</td>\n",
       "      <td>ark@gmail.com</td>\n",
       "    </tr>\n",
       "    <tr>\n",
       "      <th>3</th>\n",
       "      <td>jkl@gmail.com</td>\n",
       "      <td>Tenzenza</td>\n",
       "      <td>Rahman</td>\n",
       "    </tr>\n",
       "  </tbody>\n",
       "</table>\n",
       "</div>"
      ],
      "text/plain": [
       "           first      last          EMAIL\n",
       "0  abc@gmail.com    Kashfi          Fahim\n",
       "1  def@gmail.com    Taseen          Fahim\n",
       "2         Albina     Smith  ark@gmail.com\n",
       "3  jkl@gmail.com  Tenzenza         Rahman"
      ]
     },
     "execution_count": 78,
     "metadata": {},
     "output_type": "execute_result"
    }
   ],
   "source": [
    "df"
   ]
  },
  {
   "cell_type": "markdown",
   "id": "a06a2e39-c684-49a8-ade7-a52c4df86659",
   "metadata": {},
   "source": [
    "# How to update multiple rows of data"
   ]
  },
  {
   "cell_type": "code",
   "execution_count": 79,
   "id": "cea51f2b-f52d-46a1-86dc-fe23514821c5",
   "metadata": {},
   "outputs": [
    {
     "data": {
      "text/plain": [
       "0            fahim\n",
       "1            fahim\n",
       "2    ark@gmail.com\n",
       "3           rahman\n",
       "Name: EMAIL, dtype: object"
      ]
     },
     "execution_count": 79,
     "metadata": {},
     "output_type": "execute_result"
    }
   ],
   "source": [
    "df['EMAIL'].str.lower()"
   ]
  },
  {
   "cell_type": "code",
   "execution_count": 80,
   "id": "d2615325-841e-4304-a231-6e9a6218d718",
   "metadata": {},
   "outputs": [
    {
     "data": {
      "text/html": [
       "<div>\n",
       "<style scoped>\n",
       "    .dataframe tbody tr th:only-of-type {\n",
       "        vertical-align: middle;\n",
       "    }\n",
       "\n",
       "    .dataframe tbody tr th {\n",
       "        vertical-align: top;\n",
       "    }\n",
       "\n",
       "    .dataframe thead th {\n",
       "        text-align: right;\n",
       "    }\n",
       "</style>\n",
       "<table border=\"1\" class=\"dataframe\">\n",
       "  <thead>\n",
       "    <tr style=\"text-align: right;\">\n",
       "      <th></th>\n",
       "      <th>first</th>\n",
       "      <th>last</th>\n",
       "      <th>EMAIL</th>\n",
       "    </tr>\n",
       "  </thead>\n",
       "  <tbody>\n",
       "    <tr>\n",
       "      <th>0</th>\n",
       "      <td>abc@gmail.com</td>\n",
       "      <td>Kashfi</td>\n",
       "      <td>Fahim</td>\n",
       "    </tr>\n",
       "    <tr>\n",
       "      <th>1</th>\n",
       "      <td>def@gmail.com</td>\n",
       "      <td>Taseen</td>\n",
       "      <td>Fahim</td>\n",
       "    </tr>\n",
       "    <tr>\n",
       "      <th>2</th>\n",
       "      <td>Albina</td>\n",
       "      <td>Smith</td>\n",
       "      <td>ark@gmail.com</td>\n",
       "    </tr>\n",
       "    <tr>\n",
       "      <th>3</th>\n",
       "      <td>jkl@gmail.com</td>\n",
       "      <td>Tenzenza</td>\n",
       "      <td>Rahman</td>\n",
       "    </tr>\n",
       "  </tbody>\n",
       "</table>\n",
       "</div>"
      ],
      "text/plain": [
       "           first      last          EMAIL\n",
       "0  abc@gmail.com    Kashfi          Fahim\n",
       "1  def@gmail.com    Taseen          Fahim\n",
       "2         Albina     Smith  ark@gmail.com\n",
       "3  jkl@gmail.com  Tenzenza         Rahman"
      ]
     },
     "execution_count": 80,
     "metadata": {},
     "output_type": "execute_result"
    }
   ],
   "source": [
    "df"
   ]
  },
  {
   "cell_type": "code",
   "execution_count": 83,
   "id": "45383d73-7779-4ccd-bb7b-c822e0c72153",
   "metadata": {},
   "outputs": [],
   "source": [
    "## Make the change\n",
    "df['EMAIL'] = df['EMAIL'].str.lower()"
   ]
  },
  {
   "cell_type": "code",
   "execution_count": 84,
   "id": "7f836ca5-08df-47a4-9550-217f79a732a8",
   "metadata": {},
   "outputs": [
    {
     "data": {
      "text/html": [
       "<div>\n",
       "<style scoped>\n",
       "    .dataframe tbody tr th:only-of-type {\n",
       "        vertical-align: middle;\n",
       "    }\n",
       "\n",
       "    .dataframe tbody tr th {\n",
       "        vertical-align: top;\n",
       "    }\n",
       "\n",
       "    .dataframe thead th {\n",
       "        text-align: right;\n",
       "    }\n",
       "</style>\n",
       "<table border=\"1\" class=\"dataframe\">\n",
       "  <thead>\n",
       "    <tr style=\"text-align: right;\">\n",
       "      <th></th>\n",
       "      <th>first</th>\n",
       "      <th>last</th>\n",
       "      <th>EMAIL</th>\n",
       "      <th>email</th>\n",
       "    </tr>\n",
       "  </thead>\n",
       "  <tbody>\n",
       "    <tr>\n",
       "      <th>0</th>\n",
       "      <td>abc@gmail.com</td>\n",
       "      <td>Kashfi</td>\n",
       "      <td>fahim</td>\n",
       "      <td>fahim</td>\n",
       "    </tr>\n",
       "    <tr>\n",
       "      <th>1</th>\n",
       "      <td>def@gmail.com</td>\n",
       "      <td>Taseen</td>\n",
       "      <td>fahim</td>\n",
       "      <td>fahim</td>\n",
       "    </tr>\n",
       "    <tr>\n",
       "      <th>2</th>\n",
       "      <td>Albina</td>\n",
       "      <td>Smith</td>\n",
       "      <td>ark@gmail.com</td>\n",
       "      <td>ark@gmail.com</td>\n",
       "    </tr>\n",
       "    <tr>\n",
       "      <th>3</th>\n",
       "      <td>jkl@gmail.com</td>\n",
       "      <td>Tenzenza</td>\n",
       "      <td>rahman</td>\n",
       "      <td>rahman</td>\n",
       "    </tr>\n",
       "  </tbody>\n",
       "</table>\n",
       "</div>"
      ],
      "text/plain": [
       "           first      last          EMAIL          email\n",
       "0  abc@gmail.com    Kashfi          fahim          fahim\n",
       "1  def@gmail.com    Taseen          fahim          fahim\n",
       "2         Albina     Smith  ark@gmail.com  ark@gmail.com\n",
       "3  jkl@gmail.com  Tenzenza         rahman         rahman"
      ]
     },
     "execution_count": 84,
     "metadata": {},
     "output_type": "execute_result"
    }
   ],
   "source": [
    "df"
   ]
  },
  {
   "cell_type": "code",
   "execution_count": 85,
   "id": "df6f3e21-a337-4719-9091-b7fc2be283bf",
   "metadata": {},
   "outputs": [],
   "source": [
    "del df['email']"
   ]
  },
  {
   "cell_type": "code",
   "execution_count": 86,
   "id": "23822ecc-27a5-4048-81df-9808b47db468",
   "metadata": {},
   "outputs": [
    {
     "data": {
      "text/html": [
       "<div>\n",
       "<style scoped>\n",
       "    .dataframe tbody tr th:only-of-type {\n",
       "        vertical-align: middle;\n",
       "    }\n",
       "\n",
       "    .dataframe tbody tr th {\n",
       "        vertical-align: top;\n",
       "    }\n",
       "\n",
       "    .dataframe thead th {\n",
       "        text-align: right;\n",
       "    }\n",
       "</style>\n",
       "<table border=\"1\" class=\"dataframe\">\n",
       "  <thead>\n",
       "    <tr style=\"text-align: right;\">\n",
       "      <th></th>\n",
       "      <th>first</th>\n",
       "      <th>last</th>\n",
       "      <th>EMAIL</th>\n",
       "    </tr>\n",
       "  </thead>\n",
       "  <tbody>\n",
       "    <tr>\n",
       "      <th>0</th>\n",
       "      <td>abc@gmail.com</td>\n",
       "      <td>Kashfi</td>\n",
       "      <td>fahim</td>\n",
       "    </tr>\n",
       "    <tr>\n",
       "      <th>1</th>\n",
       "      <td>def@gmail.com</td>\n",
       "      <td>Taseen</td>\n",
       "      <td>fahim</td>\n",
       "    </tr>\n",
       "    <tr>\n",
       "      <th>2</th>\n",
       "      <td>Albina</td>\n",
       "      <td>Smith</td>\n",
       "      <td>ark@gmail.com</td>\n",
       "    </tr>\n",
       "    <tr>\n",
       "      <th>3</th>\n",
       "      <td>jkl@gmail.com</td>\n",
       "      <td>Tenzenza</td>\n",
       "      <td>rahman</td>\n",
       "    </tr>\n",
       "  </tbody>\n",
       "</table>\n",
       "</div>"
      ],
      "text/plain": [
       "           first      last          EMAIL\n",
       "0  abc@gmail.com    Kashfi          fahim\n",
       "1  def@gmail.com    Taseen          fahim\n",
       "2         Albina     Smith  ark@gmail.com\n",
       "3  jkl@gmail.com  Tenzenza         rahman"
      ]
     },
     "execution_count": 86,
     "metadata": {},
     "output_type": "execute_result"
    }
   ],
   "source": [
    "df"
   ]
  },
  {
   "cell_type": "markdown",
   "id": "7b2eeeec-0296-4c43-93b3-ab7d09de3095",
   "metadata": {},
   "source": [
    "# APPLY, MAP, APPLYMAP, REPLACE"
   ]
  },
  {
   "cell_type": "code",
   "execution_count": 88,
   "id": "47ee5807-8fc0-4be5-834a-59526eb34a18",
   "metadata": {},
   "outputs": [
    {
     "data": {
      "text/plain": [
       "0     5\n",
       "1     5\n",
       "2    13\n",
       "3     6\n",
       "Name: EMAIL, dtype: int64"
      ]
     },
     "execution_count": 88,
     "metadata": {},
     "output_type": "execute_result"
    }
   ],
   "source": [
    "# Apply used to call a function on values\n",
    "df['EMAIL'].apply(len)"
   ]
  },
  {
   "cell_type": "code",
   "execution_count": 89,
   "id": "9cc0c77e-a646-4ec7-a911-48c0ccad4ac4",
   "metadata": {},
   "outputs": [
    {
     "ename": "KeyError",
     "evalue": "'email'",
     "output_type": "error",
     "traceback": [
      "\u001b[0;31m---------------------------------------------------------------------------\u001b[0m",
      "\u001b[0;31mKeyError\u001b[0m                                  Traceback (most recent call last)",
      "File \u001b[0;32m/Library/Frameworks/Python.framework/Versions/3.9/lib/python3.9/site-packages/pandas/core/indexes/base.py:3361\u001b[0m, in \u001b[0;36mIndex.get_loc\u001b[0;34m(self, key, method, tolerance)\u001b[0m\n\u001b[1;32m   3360\u001b[0m \u001b[38;5;28;01mtry\u001b[39;00m:\n\u001b[0;32m-> 3361\u001b[0m     \u001b[38;5;28;01mreturn\u001b[39;00m \u001b[38;5;28;43mself\u001b[39;49m\u001b[38;5;241;43m.\u001b[39;49m\u001b[43m_engine\u001b[49m\u001b[38;5;241;43m.\u001b[39;49m\u001b[43mget_loc\u001b[49m\u001b[43m(\u001b[49m\u001b[43mcasted_key\u001b[49m\u001b[43m)\u001b[49m\n\u001b[1;32m   3362\u001b[0m \u001b[38;5;28;01mexcept\u001b[39;00m \u001b[38;5;167;01mKeyError\u001b[39;00m \u001b[38;5;28;01mas\u001b[39;00m err:\n",
      "File \u001b[0;32m/Library/Frameworks/Python.framework/Versions/3.9/lib/python3.9/site-packages/pandas/_libs/index.pyx:76\u001b[0m, in \u001b[0;36mpandas._libs.index.IndexEngine.get_loc\u001b[0;34m()\u001b[0m\n",
      "File \u001b[0;32m/Library/Frameworks/Python.framework/Versions/3.9/lib/python3.9/site-packages/pandas/_libs/index.pyx:108\u001b[0m, in \u001b[0;36mpandas._libs.index.IndexEngine.get_loc\u001b[0;34m()\u001b[0m\n",
      "File \u001b[0;32mpandas/_libs/hashtable_class_helper.pxi:5198\u001b[0m, in \u001b[0;36mpandas._libs.hashtable.PyObjectHashTable.get_item\u001b[0;34m()\u001b[0m\n",
      "File \u001b[0;32mpandas/_libs/hashtable_class_helper.pxi:5206\u001b[0m, in \u001b[0;36mpandas._libs.hashtable.PyObjectHashTable.get_item\u001b[0;34m()\u001b[0m\n",
      "\u001b[0;31mKeyError\u001b[0m: 'email'",
      "\nThe above exception was the direct cause of the following exception:\n",
      "\u001b[0;31mKeyError\u001b[0m                                  Traceback (most recent call last)",
      "Input \u001b[0;32mIn [89]\u001b[0m, in \u001b[0;36m<cell line: 1>\u001b[0;34m()\u001b[0m\n\u001b[0;32m----> 1\u001b[0m df[\u001b[38;5;124m'\u001b[39m\u001b[38;5;124mfirst\u001b[39m\u001b[38;5;124m'\u001b[39m] \u001b[38;5;241m=\u001b[39m df[\u001b[38;5;124m'\u001b[39m\u001b[38;5;124memail\u001b[39m\u001b[38;5;124m'\u001b[39m]\n",
      "File \u001b[0;32m/Library/Frameworks/Python.framework/Versions/3.9/lib/python3.9/site-packages/pandas/core/frame.py:3455\u001b[0m, in \u001b[0;36mDataFrame.__getitem__\u001b[0;34m(self, key)\u001b[0m\n\u001b[1;32m   3453\u001b[0m \u001b[38;5;28;01mif\u001b[39;00m \u001b[38;5;28mself\u001b[39m\u001b[38;5;241m.\u001b[39mcolumns\u001b[38;5;241m.\u001b[39mnlevels \u001b[38;5;241m>\u001b[39m \u001b[38;5;241m1\u001b[39m:\n\u001b[1;32m   3454\u001b[0m     \u001b[38;5;28;01mreturn\u001b[39;00m \u001b[38;5;28mself\u001b[39m\u001b[38;5;241m.\u001b[39m_getitem_multilevel(key)\n\u001b[0;32m-> 3455\u001b[0m indexer \u001b[38;5;241m=\u001b[39m \u001b[38;5;28;43mself\u001b[39;49m\u001b[38;5;241;43m.\u001b[39;49m\u001b[43mcolumns\u001b[49m\u001b[38;5;241;43m.\u001b[39;49m\u001b[43mget_loc\u001b[49m\u001b[43m(\u001b[49m\u001b[43mkey\u001b[49m\u001b[43m)\u001b[49m\n\u001b[1;32m   3456\u001b[0m \u001b[38;5;28;01mif\u001b[39;00m is_integer(indexer):\n\u001b[1;32m   3457\u001b[0m     indexer \u001b[38;5;241m=\u001b[39m [indexer]\n",
      "File \u001b[0;32m/Library/Frameworks/Python.framework/Versions/3.9/lib/python3.9/site-packages/pandas/core/indexes/base.py:3363\u001b[0m, in \u001b[0;36mIndex.get_loc\u001b[0;34m(self, key, method, tolerance)\u001b[0m\n\u001b[1;32m   3361\u001b[0m         \u001b[38;5;28;01mreturn\u001b[39;00m \u001b[38;5;28mself\u001b[39m\u001b[38;5;241m.\u001b[39m_engine\u001b[38;5;241m.\u001b[39mget_loc(casted_key)\n\u001b[1;32m   3362\u001b[0m     \u001b[38;5;28;01mexcept\u001b[39;00m \u001b[38;5;167;01mKeyError\u001b[39;00m \u001b[38;5;28;01mas\u001b[39;00m err:\n\u001b[0;32m-> 3363\u001b[0m         \u001b[38;5;28;01mraise\u001b[39;00m \u001b[38;5;167;01mKeyError\u001b[39;00m(key) \u001b[38;5;28;01mfrom\u001b[39;00m \u001b[38;5;21;01merr\u001b[39;00m\n\u001b[1;32m   3365\u001b[0m \u001b[38;5;28;01mif\u001b[39;00m is_scalar(key) \u001b[38;5;129;01mand\u001b[39;00m isna(key) \u001b[38;5;129;01mand\u001b[39;00m \u001b[38;5;129;01mnot\u001b[39;00m \u001b[38;5;28mself\u001b[39m\u001b[38;5;241m.\u001b[39mhasnans:\n\u001b[1;32m   3366\u001b[0m     \u001b[38;5;28;01mraise\u001b[39;00m \u001b[38;5;167;01mKeyError\u001b[39;00m(key)\n",
      "\u001b[0;31mKeyError\u001b[0m: 'email'"
     ]
    }
   ],
   "source": [
    "df['first'] = df['']"
   ]
  },
  {
   "cell_type": "code",
   "execution_count": null,
   "id": "7bad7b75-ba67-4e10-a147-ba0dd8f11b07",
   "metadata": {},
   "outputs": [],
   "source": []
  }
 ],
 "metadata": {
  "kernelspec": {
   "display_name": "Python 3 (ipykernel)",
   "language": "python",
   "name": "python3"
  },
  "language_info": {
   "codemirror_mode": {
    "name": "ipython",
    "version": 3
   },
   "file_extension": ".py",
   "mimetype": "text/x-python",
   "name": "python",
   "nbconvert_exporter": "python",
   "pygments_lexer": "ipython3",
   "version": "3.9.1"
  }
 },
 "nbformat": 4,
 "nbformat_minor": 5
}
