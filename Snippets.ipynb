{
 "cells": [
  {
   "cell_type": "code",
   "execution_count": 3,
   "id": "4ab34d9b-022d-4df4-af4c-9af51de7f478",
   "metadata": {},
   "outputs": [],
   "source": [
    "person = {\n",
    "    \"first\": \"Kashfi\",\n",
    "    \"last\": \"Fahim\",\n",
    "    \"email\":\"kashfi.fahim@gmail.com\"\n",
    "}"
   ]
  },
  {
   "cell_type": "code",
   "execution_count": 5,
   "id": "0472b0a3-efcf-4478-96e9-fbe796723e9a",
   "metadata": {},
   "outputs": [],
   "source": [
    "people = {\n",
    "    \"first\": [\"Kashfi\"],\n",
    "    \"last\": [\"Fahim\"],\n",
    "    \"email\": [\"kashfi.fahim@gmail.com\"]\n",
    "}"
   ]
  },
  {
   "cell_type": "code",
   "execution_count": 10,
   "id": "64d7e7f8-3f0a-4c5c-8c63-6a7c6caeb439",
   "metadata": {},
   "outputs": [],
   "source": [
    "people = {\n",
    "    \"first\": [\"Kashfi\", \"Taseen\", \"Albina\", \"Tenzenza\"],\n",
    "    \"last\": [\"Fahim\", \"Fahim\", \"Rahman\", \"Rahman\"],\n",
    "    \"email\" : [\"abc@gmail.com\", \"def@gmail.com\", \"ghi@gmail.com\", \"jkl@gmail.com\"],\n",
    "}"
   ]
  },
  {
   "cell_type": "code",
   "execution_count": 15,
   "id": "616f780d-a2c0-49d8-8784-72c413a79b52",
   "metadata": {},
   "outputs": [],
   "source": [
    "import pandas as pd"
   ]
  },
  {
   "cell_type": "code",
   "execution_count": 21,
   "id": "6bc794b4-645b-4831-b704-35cd8a19b467",
   "metadata": {},
   "outputs": [],
   "source": [
    "df = pd.DataFrame(people)"
   ]
  },
  {
   "cell_type": "code",
   "execution_count": 22,
   "id": "f5e431a7-2343-4af6-b01b-cbf05d29355d",
   "metadata": {},
   "outputs": [
    {
     "data": {
      "text/html": [
       "<div>\n",
       "<style scoped>\n",
       "    .dataframe tbody tr th:only-of-type {\n",
       "        vertical-align: middle;\n",
       "    }\n",
       "\n",
       "    .dataframe tbody tr th {\n",
       "        vertical-align: top;\n",
       "    }\n",
       "\n",
       "    .dataframe thead th {\n",
       "        text-align: right;\n",
       "    }\n",
       "</style>\n",
       "<table border=\"1\" class=\"dataframe\">\n",
       "  <thead>\n",
       "    <tr style=\"text-align: right;\">\n",
       "      <th></th>\n",
       "      <th>first</th>\n",
       "      <th>last</th>\n",
       "      <th>email</th>\n",
       "    </tr>\n",
       "  </thead>\n",
       "  <tbody>\n",
       "    <tr>\n",
       "      <th>0</th>\n",
       "      <td>Kashfi</td>\n",
       "      <td>Fahim</td>\n",
       "      <td>abc@gmail.com</td>\n",
       "    </tr>\n",
       "    <tr>\n",
       "      <th>1</th>\n",
       "      <td>Taseen</td>\n",
       "      <td>Fahim</td>\n",
       "      <td>def@gmail.com</td>\n",
       "    </tr>\n",
       "    <tr>\n",
       "      <th>2</th>\n",
       "      <td>Albina</td>\n",
       "      <td>Rahman</td>\n",
       "      <td>ghi@gmail.com</td>\n",
       "    </tr>\n",
       "    <tr>\n",
       "      <th>3</th>\n",
       "      <td>Tenzenza</td>\n",
       "      <td>Rahman</td>\n",
       "      <td>jkl@gmail.com</td>\n",
       "    </tr>\n",
       "  </tbody>\n",
       "</table>\n",
       "</div>"
      ],
      "text/plain": [
       "      first    last          email\n",
       "0    Kashfi   Fahim  abc@gmail.com\n",
       "1    Taseen   Fahim  def@gmail.com\n",
       "2    Albina  Rahman  ghi@gmail.com\n",
       "3  Tenzenza  Rahman  jkl@gmail.com"
      ]
     },
     "execution_count": 22,
     "metadata": {},
     "output_type": "execute_result"
    }
   ],
   "source": [
    "df"
   ]
  },
  {
   "cell_type": "code",
   "execution_count": 26,
   "id": "10e1284f-82d2-4fd0-a5e6-a88b9c187339",
   "metadata": {},
   "outputs": [
    {
     "data": {
      "text/plain": [
       "0      Kashfi\n",
       "1      Taseen\n",
       "2      Albina\n",
       "3    Tenzenza\n",
       "Name: first, dtype: object"
      ]
     },
     "execution_count": 26,
     "metadata": {},
     "output_type": "execute_result"
    }
   ],
   "source": [
    "df[\"first\"]"
   ]
  },
  {
   "cell_type": "code",
   "execution_count": 28,
   "id": "2255940a-4bf1-4a3b-b80a-48d6c2f958d9",
   "metadata": {},
   "outputs": [
    {
     "data": {
      "text/plain": [
       "0    abc@gmail.com\n",
       "1    def@gmail.com\n",
       "2    ghi@gmail.com\n",
       "3    jkl@gmail.com\n",
       "Name: email, dtype: object"
      ]
     },
     "execution_count": 28,
     "metadata": {},
     "output_type": "execute_result"
    }
   ],
   "source": [
    "df['email']"
   ]
  },
  {
   "cell_type": "code",
   "execution_count": 29,
   "id": "210e7d09-a6fb-42d0-9950-eaa21da66fc4",
   "metadata": {},
   "outputs": [
    {
     "data": {
      "text/plain": [
       "pandas.core.series.Series"
      ]
     },
     "execution_count": 29,
     "metadata": {},
     "output_type": "execute_result"
    }
   ],
   "source": [
    "type(df['email'])"
   ]
  },
  {
   "cell_type": "markdown",
   "id": "07ef511f-60ca-447f-8f01-21218c588d93",
   "metadata": {},
   "source": [
    "## Series - a list of data with a lot more functionality; a row"
   ]
  },
  {
   "cell_type": "markdown",
   "id": "82d9ca83-72ff-4270-90f3-ac9ea34d5d82",
   "metadata": {},
   "source": [
    "## DataFrame -- rows and columns, container for multiple rows (Series)"
   ]
  },
  {
   "cell_type": "code",
   "execution_count": 34,
   "id": "598babcd-0ea4-416b-ae88-8baa34dd04b2",
   "metadata": {},
   "outputs": [
    {
     "data": {
      "text/html": [
       "<div>\n",
       "<style scoped>\n",
       "    .dataframe tbody tr th:only-of-type {\n",
       "        vertical-align: middle;\n",
       "    }\n",
       "\n",
       "    .dataframe tbody tr th {\n",
       "        vertical-align: top;\n",
       "    }\n",
       "\n",
       "    .dataframe thead th {\n",
       "        text-align: right;\n",
       "    }\n",
       "</style>\n",
       "<table border=\"1\" class=\"dataframe\">\n",
       "  <thead>\n",
       "    <tr style=\"text-align: right;\">\n",
       "      <th></th>\n",
       "      <th>first</th>\n",
       "      <th>last</th>\n",
       "    </tr>\n",
       "  </thead>\n",
       "  <tbody>\n",
       "    <tr>\n",
       "      <th>0</th>\n",
       "      <td>Kashfi</td>\n",
       "      <td>Fahim</td>\n",
       "    </tr>\n",
       "    <tr>\n",
       "      <th>1</th>\n",
       "      <td>Taseen</td>\n",
       "      <td>Fahim</td>\n",
       "    </tr>\n",
       "    <tr>\n",
       "      <th>2</th>\n",
       "      <td>Albina</td>\n",
       "      <td>Rahman</td>\n",
       "    </tr>\n",
       "    <tr>\n",
       "      <th>3</th>\n",
       "      <td>Tenzenza</td>\n",
       "      <td>Rahman</td>\n",
       "    </tr>\n",
       "  </tbody>\n",
       "</table>\n",
       "</div>"
      ],
      "text/plain": [
       "      first    last\n",
       "0    Kashfi   Fahim\n",
       "1    Taseen   Fahim\n",
       "2    Albina  Rahman\n",
       "3  Tenzenza  Rahman"
      ]
     },
     "execution_count": 34,
     "metadata": {},
     "output_type": "execute_result"
    }
   ],
   "source": [
    "# Access multiple columns\n",
    "df[['first', 'last']]"
   ]
  },
  {
   "cell_type": "code",
   "execution_count": 38,
   "id": "f2d6c9b2-bacd-4f92-8a95-e9179def6552",
   "metadata": {},
   "outputs": [
    {
     "data": {
      "text/html": [
       "<div>\n",
       "<style scoped>\n",
       "    .dataframe tbody tr th:only-of-type {\n",
       "        vertical-align: middle;\n",
       "    }\n",
       "\n",
       "    .dataframe tbody tr th {\n",
       "        vertical-align: top;\n",
       "    }\n",
       "\n",
       "    .dataframe thead th {\n",
       "        text-align: right;\n",
       "    }\n",
       "</style>\n",
       "<table border=\"1\" class=\"dataframe\">\n",
       "  <thead>\n",
       "    <tr style=\"text-align: right;\">\n",
       "      <th></th>\n",
       "      <th>email</th>\n",
       "      <th>last</th>\n",
       "      <th>first</th>\n",
       "    </tr>\n",
       "  </thead>\n",
       "  <tbody>\n",
       "    <tr>\n",
       "      <th>0</th>\n",
       "      <td>abc@gmail.com</td>\n",
       "      <td>Fahim</td>\n",
       "      <td>Kashfi</td>\n",
       "    </tr>\n",
       "    <tr>\n",
       "      <th>1</th>\n",
       "      <td>def@gmail.com</td>\n",
       "      <td>Fahim</td>\n",
       "      <td>Taseen</td>\n",
       "    </tr>\n",
       "    <tr>\n",
       "      <th>2</th>\n",
       "      <td>ghi@gmail.com</td>\n",
       "      <td>Rahman</td>\n",
       "      <td>Albina</td>\n",
       "    </tr>\n",
       "    <tr>\n",
       "      <th>3</th>\n",
       "      <td>jkl@gmail.com</td>\n",
       "      <td>Rahman</td>\n",
       "      <td>Tenzenza</td>\n",
       "    </tr>\n",
       "  </tbody>\n",
       "</table>\n",
       "</div>"
      ],
      "text/plain": [
       "           email    last     first\n",
       "0  abc@gmail.com   Fahim    Kashfi\n",
       "1  def@gmail.com   Fahim    Taseen\n",
       "2  ghi@gmail.com  Rahman    Albina\n",
       "3  jkl@gmail.com  Rahman  Tenzenza"
      ]
     },
     "execution_count": 38,
     "metadata": {},
     "output_type": "execute_result"
    }
   ],
   "source": [
    "df[[\"email\", \"last\", \"first\"]]"
   ]
  },
  {
   "cell_type": "code",
   "execution_count": 39,
   "id": "c0eedc04-0043-4897-91a6-34006aef4ba2",
   "metadata": {},
   "outputs": [
    {
     "data": {
      "text/plain": [
       "pandas.core.frame.DataFrame"
      ]
     },
     "execution_count": 39,
     "metadata": {},
     "output_type": "execute_result"
    }
   ],
   "source": [
    "type(df[[\"email\", \"last\", \"first\"]])"
   ]
  },
  {
   "cell_type": "code",
   "execution_count": 40,
   "id": "13b936d7-42fd-47f4-9943-0daaab72c29a",
   "metadata": {},
   "outputs": [
    {
     "data": {
      "text/html": [
       "<div>\n",
       "<style scoped>\n",
       "    .dataframe tbody tr th:only-of-type {\n",
       "        vertical-align: middle;\n",
       "    }\n",
       "\n",
       "    .dataframe tbody tr th {\n",
       "        vertical-align: top;\n",
       "    }\n",
       "\n",
       "    .dataframe thead th {\n",
       "        text-align: right;\n",
       "    }\n",
       "</style>\n",
       "<table border=\"1\" class=\"dataframe\">\n",
       "  <thead>\n",
       "    <tr style=\"text-align: right;\">\n",
       "      <th></th>\n",
       "      <th>first</th>\n",
       "      <th>last</th>\n",
       "      <th>email</th>\n",
       "    </tr>\n",
       "  </thead>\n",
       "  <tbody>\n",
       "    <tr>\n",
       "      <th>0</th>\n",
       "      <td>Kashfi</td>\n",
       "      <td>Fahim</td>\n",
       "      <td>abc@gmail.com</td>\n",
       "    </tr>\n",
       "    <tr>\n",
       "      <th>1</th>\n",
       "      <td>Taseen</td>\n",
       "      <td>Fahim</td>\n",
       "      <td>def@gmail.com</td>\n",
       "    </tr>\n",
       "  </tbody>\n",
       "</table>\n",
       "</div>"
      ],
      "text/plain": [
       "    first   last          email\n",
       "0  Kashfi  Fahim  abc@gmail.com\n",
       "1  Taseen  Fahim  def@gmail.com"
      ]
     },
     "execution_count": 40,
     "metadata": {},
     "output_type": "execute_result"
    }
   ],
   "source": [
    "df[0:2]"
   ]
  },
  {
   "cell_type": "code",
   "execution_count": 41,
   "id": "059fa2aa-af3d-465b-a90e-8d4dbdaa232c",
   "metadata": {},
   "outputs": [
    {
     "data": {
      "text/plain": [
       "Index(['first', 'last', 'email'], dtype='object')"
      ]
     },
     "execution_count": 41,
     "metadata": {},
     "output_type": "execute_result"
    }
   ],
   "source": [
    "df.columns"
   ]
  },
  {
   "cell_type": "markdown",
   "id": "b0fd5b25-61b4-4fba-bb99-71f548facbc9",
   "metadata": {},
   "source": [
    "### Rows: iloc, loc"
   ]
  },
  {
   "cell_type": "code",
   "execution_count": 42,
   "id": "d496495b-737f-4d5c-9231-8a0ddc3cb72c",
   "metadata": {},
   "outputs": [
    {
     "data": {
      "text/plain": [
       "first           Taseen\n",
       "last             Fahim\n",
       "email    def@gmail.com\n",
       "Name: 1, dtype: object"
      ]
     },
     "execution_count": 42,
     "metadata": {},
     "output_type": "execute_result"
    }
   ],
   "source": [
    "df.iloc[1]"
   ]
  },
  {
   "cell_type": "code",
   "execution_count": 43,
   "id": "8f30272a-3eda-4e36-b0d0-388a67c3b5e6",
   "metadata": {},
   "outputs": [
    {
     "data": {
      "text/plain": [
       "first           Kashfi\n",
       "last             Fahim\n",
       "email    abc@gmail.com\n",
       "Name: 0, dtype: object"
      ]
     },
     "execution_count": 43,
     "metadata": {},
     "output_type": "execute_result"
    }
   ],
   "source": [
    "df.iloc[0]"
   ]
  },
  {
   "cell_type": "code",
   "execution_count": 44,
   "id": "dd623560-989c-488b-86df-b96c55747961",
   "metadata": {},
   "outputs": [
    {
     "data": {
      "text/plain": [
       "first           Albina\n",
       "last            Rahman\n",
       "email    ghi@gmail.com\n",
       "Name: 2, dtype: object"
      ]
     },
     "execution_count": 44,
     "metadata": {},
     "output_type": "execute_result"
    }
   ],
   "source": [
    "df.iloc[2]"
   ]
  },
  {
   "cell_type": "code",
   "execution_count": 45,
   "id": "a852f170-ad2b-424c-b919-dcd509d2c948",
   "metadata": {},
   "outputs": [
    {
     "data": {
      "text/plain": [
       "first         Tenzenza\n",
       "last            Rahman\n",
       "email    jkl@gmail.com\n",
       "Name: 3, dtype: object"
      ]
     },
     "execution_count": 45,
     "metadata": {},
     "output_type": "execute_result"
    }
   ],
   "source": [
    "df.iloc[3]"
   ]
  },
  {
   "cell_type": "code",
   "execution_count": 46,
   "id": "edca8455-d985-4f7f-8e29-b96dd7d3cf25",
   "metadata": {},
   "outputs": [
    {
     "data": {
      "text/plain": [
       "pandas.core.series.Series"
      ]
     },
     "execution_count": 46,
     "metadata": {},
     "output_type": "execute_result"
    }
   ],
   "source": [
    "type(df.iloc[3])"
   ]
  },
  {
   "cell_type": "code",
   "execution_count": 47,
   "id": "351dd8ea-192f-4e0a-b516-28dd783d8c82",
   "metadata": {},
   "outputs": [
    {
     "data": {
      "text/plain": [
       "first           Kashfi\n",
       "last             Fahim\n",
       "email    abc@gmail.com\n",
       "Name: 0, dtype: object"
      ]
     },
     "execution_count": 47,
     "metadata": {},
     "output_type": "execute_result"
    }
   ],
   "source": [
    "df.loc[0]"
   ]
  },
  {
   "cell_type": "code",
   "execution_count": 48,
   "id": "6c143536-37f9-4f36-b024-1db99ec680b6",
   "metadata": {},
   "outputs": [
    {
     "data": {
      "text/plain": [
       "pandas.core.series.Series"
      ]
     },
     "execution_count": 48,
     "metadata": {},
     "output_type": "execute_result"
    }
   ],
   "source": [
    "type(df.loc[0])"
   ]
  },
  {
   "cell_type": "code",
   "execution_count": 49,
   "id": "dc083cca-36a3-49ef-b0b7-68775c624735",
   "metadata": {},
   "outputs": [],
   "source": [
    "first, last, email = df.loc[0]"
   ]
  },
  {
   "cell_type": "code",
   "execution_count": 50,
   "id": "d9b8393d-3f39-42a7-a1b1-6d95dd3e6d5f",
   "metadata": {},
   "outputs": [
    {
     "data": {
      "text/plain": [
       "('Kashfi', 'Fahim', 'abc@gmail.com')"
      ]
     },
     "execution_count": 50,
     "metadata": {},
     "output_type": "execute_result"
    }
   ],
   "source": [
    "first, last, email"
   ]
  },
  {
   "cell_type": "code",
   "execution_count": 51,
   "id": "bb815548-70c8-45f8-a754-efb7e3dbd28f",
   "metadata": {},
   "outputs": [
    {
     "data": {
      "text/plain": [
       "str"
      ]
     },
     "execution_count": 51,
     "metadata": {},
     "output_type": "execute_result"
    }
   ],
   "source": [
    "type(first)"
   ]
  },
  {
   "cell_type": "code",
   "execution_count": 59,
   "id": "726cfbc5-dbb5-4f30-a8ae-e2124df9c4a0",
   "metadata": {},
   "outputs": [
    {
     "data": {
      "text/html": [
       "<div>\n",
       "<style scoped>\n",
       "    .dataframe tbody tr th:only-of-type {\n",
       "        vertical-align: middle;\n",
       "    }\n",
       "\n",
       "    .dataframe tbody tr th {\n",
       "        vertical-align: top;\n",
       "    }\n",
       "\n",
       "    .dataframe thead th {\n",
       "        text-align: right;\n",
       "    }\n",
       "</style>\n",
       "<table border=\"1\" class=\"dataframe\">\n",
       "  <thead>\n",
       "    <tr style=\"text-align: right;\">\n",
       "      <th></th>\n",
       "      <th>first</th>\n",
       "      <th>last</th>\n",
       "      <th>email</th>\n",
       "    </tr>\n",
       "  </thead>\n",
       "  <tbody>\n",
       "    <tr>\n",
       "      <th>0</th>\n",
       "      <td>Kashfi</td>\n",
       "      <td>Fahim</td>\n",
       "      <td>abc@gmail.com</td>\n",
       "    </tr>\n",
       "    <tr>\n",
       "      <th>1</th>\n",
       "      <td>Taseen</td>\n",
       "      <td>Fahim</td>\n",
       "      <td>def@gmail.com</td>\n",
       "    </tr>\n",
       "  </tbody>\n",
       "</table>\n",
       "</div>"
      ],
      "text/plain": [
       "    first   last          email\n",
       "0  Kashfi  Fahim  abc@gmail.com\n",
       "1  Taseen  Fahim  def@gmail.com"
      ]
     },
     "execution_count": 59,
     "metadata": {},
     "output_type": "execute_result"
    }
   ],
   "source": [
    "df.iloc[[0, 1]]"
   ]
  },
  {
   "cell_type": "code",
   "execution_count": 62,
   "id": "e80a38dc-9b2b-4c7d-a846-cf4f97eb5f36",
   "metadata": {},
   "outputs": [
    {
     "data": {
      "text/html": [
       "<div>\n",
       "<style scoped>\n",
       "    .dataframe tbody tr th:only-of-type {\n",
       "        vertical-align: middle;\n",
       "    }\n",
       "\n",
       "    .dataframe tbody tr th {\n",
       "        vertical-align: top;\n",
       "    }\n",
       "\n",
       "    .dataframe thead th {\n",
       "        text-align: right;\n",
       "    }\n",
       "</style>\n",
       "<table border=\"1\" class=\"dataframe\">\n",
       "  <thead>\n",
       "    <tr style=\"text-align: right;\">\n",
       "      <th></th>\n",
       "      <th>email</th>\n",
       "    </tr>\n",
       "  </thead>\n",
       "  <tbody>\n",
       "    <tr>\n",
       "      <th>0</th>\n",
       "      <td>abc@gmail.com</td>\n",
       "    </tr>\n",
       "    <tr>\n",
       "      <th>1</th>\n",
       "      <td>def@gmail.com</td>\n",
       "    </tr>\n",
       "  </tbody>\n",
       "</table>\n",
       "</div>"
      ],
      "text/plain": [
       "           email\n",
       "0  abc@gmail.com\n",
       "1  def@gmail.com"
      ]
     },
     "execution_count": 62,
     "metadata": {},
     "output_type": "execute_result"
    }
   ],
   "source": [
    "df.iloc[[0, 1], [2]]"
   ]
  },
  {
   "cell_type": "code",
   "execution_count": 66,
   "id": "34780b5a-6aca-4e19-b2db-11982e913f15",
   "metadata": {},
   "outputs": [
    {
     "data": {
      "text/plain": [
       "first           Kashfi\n",
       "last             Fahim\n",
       "email    abc@gmail.com\n",
       "Name: 0, dtype: object"
      ]
     },
     "execution_count": 66,
     "metadata": {},
     "output_type": "execute_result"
    }
   ],
   "source": [
    "df.loc[0]"
   ]
  },
  {
   "cell_type": "code",
   "execution_count": 69,
   "id": "60bcbb3a-2b55-41dc-8247-08e54d3edd59",
   "metadata": {},
   "outputs": [
    {
     "data": {
      "text/plain": [
       "first           Albina\n",
       "last            Rahman\n",
       "email    ghi@gmail.com\n",
       "Name: 2, dtype: object"
      ]
     },
     "execution_count": 69,
     "metadata": {},
     "output_type": "execute_result"
    }
   ],
   "source": [
    "df.loc[2]"
   ]
  },
  {
   "cell_type": "code",
   "execution_count": 74,
   "id": "546dfbbc-9835-4ebf-b333-d984b4b0f443",
   "metadata": {},
   "outputs": [
    {
     "data": {
      "text/html": [
       "<div>\n",
       "<style scoped>\n",
       "    .dataframe tbody tr th:only-of-type {\n",
       "        vertical-align: middle;\n",
       "    }\n",
       "\n",
       "    .dataframe tbody tr th {\n",
       "        vertical-align: top;\n",
       "    }\n",
       "\n",
       "    .dataframe thead th {\n",
       "        text-align: right;\n",
       "    }\n",
       "</style>\n",
       "<table border=\"1\" class=\"dataframe\">\n",
       "  <thead>\n",
       "    <tr style=\"text-align: right;\">\n",
       "      <th></th>\n",
       "      <th>email</th>\n",
       "    </tr>\n",
       "  </thead>\n",
       "  <tbody>\n",
       "    <tr>\n",
       "      <th>1</th>\n",
       "      <td>def@gmail.com</td>\n",
       "    </tr>\n",
       "  </tbody>\n",
       "</table>\n",
       "</div>"
      ],
      "text/plain": [
       "           email\n",
       "1  def@gmail.com"
      ]
     },
     "execution_count": 74,
     "metadata": {},
     "output_type": "execute_result"
    }
   ],
   "source": [
    "df.loc[[1], ['email']]"
   ]
  },
  {
   "cell_type": "code",
   "execution_count": 75,
   "id": "3aa31ab5-e0e3-4e8c-adcd-d79abc41e88c",
   "metadata": {},
   "outputs": [
    {
     "data": {
      "text/html": [
       "<div>\n",
       "<style scoped>\n",
       "    .dataframe tbody tr th:only-of-type {\n",
       "        vertical-align: middle;\n",
       "    }\n",
       "\n",
       "    .dataframe tbody tr th {\n",
       "        vertical-align: top;\n",
       "    }\n",
       "\n",
       "    .dataframe thead th {\n",
       "        text-align: right;\n",
       "    }\n",
       "</style>\n",
       "<table border=\"1\" class=\"dataframe\">\n",
       "  <thead>\n",
       "    <tr style=\"text-align: right;\">\n",
       "      <th></th>\n",
       "      <th>first</th>\n",
       "      <th>last</th>\n",
       "      <th>email</th>\n",
       "    </tr>\n",
       "  </thead>\n",
       "  <tbody>\n",
       "    <tr>\n",
       "      <th>0</th>\n",
       "      <td>Kashfi</td>\n",
       "      <td>Fahim</td>\n",
       "      <td>abc@gmail.com</td>\n",
       "    </tr>\n",
       "    <tr>\n",
       "      <th>1</th>\n",
       "      <td>Taseen</td>\n",
       "      <td>Fahim</td>\n",
       "      <td>def@gmail.com</td>\n",
       "    </tr>\n",
       "    <tr>\n",
       "      <th>2</th>\n",
       "      <td>Albina</td>\n",
       "      <td>Rahman</td>\n",
       "      <td>ghi@gmail.com</td>\n",
       "    </tr>\n",
       "    <tr>\n",
       "      <th>3</th>\n",
       "      <td>Tenzenza</td>\n",
       "      <td>Rahman</td>\n",
       "      <td>jkl@gmail.com</td>\n",
       "    </tr>\n",
       "  </tbody>\n",
       "</table>\n",
       "</div>"
      ],
      "text/plain": [
       "      first    last          email\n",
       "0    Kashfi   Fahim  abc@gmail.com\n",
       "1    Taseen   Fahim  def@gmail.com\n",
       "2    Albina  Rahman  ghi@gmail.com\n",
       "3  Tenzenza  Rahman  jkl@gmail.com"
      ]
     },
     "execution_count": 75,
     "metadata": {},
     "output_type": "execute_result"
    }
   ],
   "source": [
    "df"
   ]
  },
  {
   "cell_type": "code",
   "execution_count": 84,
   "id": "35350bad-76a8-48a1-ad6e-43ca3ca5aedd",
   "metadata": {},
   "outputs": [
    {
     "data": {
      "text/plain": [
       "0    abc@gmail.com\n",
       "1    def@gmail.com\n",
       "2    ghi@gmail.com\n",
       "3    jkl@gmail.com\n",
       "Name: email, dtype: object"
      ]
     },
     "execution_count": 84,
     "metadata": {},
     "output_type": "execute_result"
    }
   ],
   "source": [
    "df['email']"
   ]
  },
  {
   "cell_type": "code",
   "execution_count": 85,
   "id": "f25e6196-f0c3-4cfa-89fc-35cd96e253a8",
   "metadata": {},
   "outputs": [],
   "source": [
    "df.set_index('email', inplace=True)"
   ]
  },
  {
   "cell_type": "code",
   "execution_count": 82,
   "id": "4ea9fd39-225e-46ec-b14f-58879ed6dd13",
   "metadata": {},
   "outputs": [
    {
     "data": {
      "text/html": [
       "<div>\n",
       "<style scoped>\n",
       "    .dataframe tbody tr th:only-of-type {\n",
       "        vertical-align: middle;\n",
       "    }\n",
       "\n",
       "    .dataframe tbody tr th {\n",
       "        vertical-align: top;\n",
       "    }\n",
       "\n",
       "    .dataframe thead th {\n",
       "        text-align: right;\n",
       "    }\n",
       "</style>\n",
       "<table border=\"1\" class=\"dataframe\">\n",
       "  <thead>\n",
       "    <tr style=\"text-align: right;\">\n",
       "      <th></th>\n",
       "      <th>first</th>\n",
       "      <th>email</th>\n",
       "    </tr>\n",
       "    <tr>\n",
       "      <th>last</th>\n",
       "      <th></th>\n",
       "      <th></th>\n",
       "    </tr>\n",
       "  </thead>\n",
       "  <tbody>\n",
       "    <tr>\n",
       "      <th>Fahim</th>\n",
       "      <td>Kashfi</td>\n",
       "      <td>abc@gmail.com</td>\n",
       "    </tr>\n",
       "    <tr>\n",
       "      <th>Fahim</th>\n",
       "      <td>Taseen</td>\n",
       "      <td>def@gmail.com</td>\n",
       "    </tr>\n",
       "    <tr>\n",
       "      <th>Rahman</th>\n",
       "      <td>Albina</td>\n",
       "      <td>ghi@gmail.com</td>\n",
       "    </tr>\n",
       "    <tr>\n",
       "      <th>Rahman</th>\n",
       "      <td>Tenzenza</td>\n",
       "      <td>jkl@gmail.com</td>\n",
       "    </tr>\n",
       "  </tbody>\n",
       "</table>\n",
       "</div>"
      ],
      "text/plain": [
       "           first          email\n",
       "last                           \n",
       "Fahim     Kashfi  abc@gmail.com\n",
       "Fahim     Taseen  def@gmail.com\n",
       "Rahman    Albina  ghi@gmail.com\n",
       "Rahman  Tenzenza  jkl@gmail.com"
      ]
     },
     "execution_count": 82,
     "metadata": {},
     "output_type": "execute_result"
    }
   ],
   "source": [
    "df.set_index('last')"
   ]
  },
  {
   "cell_type": "code",
   "execution_count": 86,
   "id": "0bc0cbbb-098f-4e5f-b483-cafc4b87fe64",
   "metadata": {},
   "outputs": [
    {
     "data": {
      "text/html": [
       "<div>\n",
       "<style scoped>\n",
       "    .dataframe tbody tr th:only-of-type {\n",
       "        vertical-align: middle;\n",
       "    }\n",
       "\n",
       "    .dataframe tbody tr th {\n",
       "        vertical-align: top;\n",
       "    }\n",
       "\n",
       "    .dataframe thead th {\n",
       "        text-align: right;\n",
       "    }\n",
       "</style>\n",
       "<table border=\"1\" class=\"dataframe\">\n",
       "  <thead>\n",
       "    <tr style=\"text-align: right;\">\n",
       "      <th></th>\n",
       "      <th>first</th>\n",
       "      <th>last</th>\n",
       "    </tr>\n",
       "    <tr>\n",
       "      <th>email</th>\n",
       "      <th></th>\n",
       "      <th></th>\n",
       "    </tr>\n",
       "  </thead>\n",
       "  <tbody>\n",
       "    <tr>\n",
       "      <th>abc@gmail.com</th>\n",
       "      <td>Kashfi</td>\n",
       "      <td>Fahim</td>\n",
       "    </tr>\n",
       "    <tr>\n",
       "      <th>def@gmail.com</th>\n",
       "      <td>Taseen</td>\n",
       "      <td>Fahim</td>\n",
       "    </tr>\n",
       "    <tr>\n",
       "      <th>ghi@gmail.com</th>\n",
       "      <td>Albina</td>\n",
       "      <td>Rahman</td>\n",
       "    </tr>\n",
       "    <tr>\n",
       "      <th>jkl@gmail.com</th>\n",
       "      <td>Tenzenza</td>\n",
       "      <td>Rahman</td>\n",
       "    </tr>\n",
       "  </tbody>\n",
       "</table>\n",
       "</div>"
      ],
      "text/plain": [
       "                  first    last\n",
       "email                          \n",
       "abc@gmail.com    Kashfi   Fahim\n",
       "def@gmail.com    Taseen   Fahim\n",
       "ghi@gmail.com    Albina  Rahman\n",
       "jkl@gmail.com  Tenzenza  Rahman"
      ]
     },
     "execution_count": 86,
     "metadata": {},
     "output_type": "execute_result"
    }
   ],
   "source": [
    "df"
   ]
  },
  {
   "cell_type": "code",
   "execution_count": 88,
   "id": "7f9b6a26-b15b-439b-8a38-5851b57701a3",
   "metadata": {},
   "outputs": [
    {
     "data": {
      "text/plain": [
       "first    Kashfi\n",
       "last      Fahim\n",
       "Name: abc@gmail.com, dtype: object"
      ]
     },
     "execution_count": 88,
     "metadata": {},
     "output_type": "execute_result"
    }
   ],
   "source": [
    "df.loc['abc@gmail.com']"
   ]
  },
  {
   "cell_type": "code",
   "execution_count": 90,
   "id": "e9e5c6a2-6d74-420c-b972-8c616028b202",
   "metadata": {},
   "outputs": [
    {
     "data": {
      "text/plain": [
       "first    Taseen\n",
       "last      Fahim\n",
       "Name: def@gmail.com, dtype: object"
      ]
     },
     "execution_count": 90,
     "metadata": {},
     "output_type": "execute_result"
    }
   ],
   "source": [
    "df.loc['def@gmail.com']"
   ]
  },
  {
   "cell_type": "code",
   "execution_count": 91,
   "id": "51d8333b-0bf4-4487-b714-565d34fc21e4",
   "metadata": {},
   "outputs": [
    {
     "data": {
      "text/plain": [
       "first    Kashfi\n",
       "last      Fahim\n",
       "Name: abc@gmail.com, dtype: object"
      ]
     },
     "execution_count": 91,
     "metadata": {},
     "output_type": "execute_result"
    }
   ],
   "source": [
    "df.iloc[0]"
   ]
  },
  {
   "cell_type": "code",
   "execution_count": 92,
   "id": "7c899090-9e98-4aaa-b62d-1760d88e535d",
   "metadata": {},
   "outputs": [
    {
     "data": {
      "text/plain": [
       "first    Albina\n",
       "last     Rahman\n",
       "Name: ghi@gmail.com, dtype: object"
      ]
     },
     "execution_count": 92,
     "metadata": {},
     "output_type": "execute_result"
    }
   ],
   "source": [
    "df.iloc[2]"
   ]
  },
  {
   "cell_type": "code",
   "execution_count": 94,
   "id": "fade45d5-088f-479b-8523-46938acef4c1",
   "metadata": {},
   "outputs": [],
   "source": [
    "df.reset_index(inplace=True)"
   ]
  },
  {
   "cell_type": "code",
   "execution_count": 95,
   "id": "6885ca1c-a655-4473-a642-a950afa9bf3f",
   "metadata": {},
   "outputs": [
    {
     "data": {
      "text/html": [
       "<div>\n",
       "<style scoped>\n",
       "    .dataframe tbody tr th:only-of-type {\n",
       "        vertical-align: middle;\n",
       "    }\n",
       "\n",
       "    .dataframe tbody tr th {\n",
       "        vertical-align: top;\n",
       "    }\n",
       "\n",
       "    .dataframe thead th {\n",
       "        text-align: right;\n",
       "    }\n",
       "</style>\n",
       "<table border=\"1\" class=\"dataframe\">\n",
       "  <thead>\n",
       "    <tr style=\"text-align: right;\">\n",
       "      <th></th>\n",
       "      <th>email</th>\n",
       "      <th>first</th>\n",
       "      <th>last</th>\n",
       "    </tr>\n",
       "  </thead>\n",
       "  <tbody>\n",
       "    <tr>\n",
       "      <th>0</th>\n",
       "      <td>abc@gmail.com</td>\n",
       "      <td>Kashfi</td>\n",
       "      <td>Fahim</td>\n",
       "    </tr>\n",
       "    <tr>\n",
       "      <th>1</th>\n",
       "      <td>def@gmail.com</td>\n",
       "      <td>Taseen</td>\n",
       "      <td>Fahim</td>\n",
       "    </tr>\n",
       "    <tr>\n",
       "      <th>2</th>\n",
       "      <td>ghi@gmail.com</td>\n",
       "      <td>Albina</td>\n",
       "      <td>Rahman</td>\n",
       "    </tr>\n",
       "    <tr>\n",
       "      <th>3</th>\n",
       "      <td>jkl@gmail.com</td>\n",
       "      <td>Tenzenza</td>\n",
       "      <td>Rahman</td>\n",
       "    </tr>\n",
       "  </tbody>\n",
       "</table>\n",
       "</div>"
      ],
      "text/plain": [
       "           email     first    last\n",
       "0  abc@gmail.com    Kashfi   Fahim\n",
       "1  def@gmail.com    Taseen   Fahim\n",
       "2  ghi@gmail.com    Albina  Rahman\n",
       "3  jkl@gmail.com  Tenzenza  Rahman"
      ]
     },
     "execution_count": 95,
     "metadata": {},
     "output_type": "execute_result"
    }
   ],
   "source": [
    "df"
   ]
  },
  {
   "cell_type": "code",
   "execution_count": null,
   "id": "ef18c53f-e103-4101-bbe8-cce2637ae05c",
   "metadata": {},
   "outputs": [],
   "source": []
  }
 ],
 "metadata": {
  "kernelspec": {
   "display_name": "Python 3 (ipykernel)",
   "language": "python",
   "name": "python3"
  },
  "language_info": {
   "codemirror_mode": {
    "name": "ipython",
    "version": 3
   },
   "file_extension": ".py",
   "mimetype": "text/x-python",
   "name": "python",
   "nbconvert_exporter": "python",
   "pygments_lexer": "ipython3",
   "version": "3.9.1"
  }
 },
 "nbformat": 4,
 "nbformat_minor": 5
}
